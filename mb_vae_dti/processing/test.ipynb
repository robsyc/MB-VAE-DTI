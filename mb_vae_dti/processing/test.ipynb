{
 "cells": [
  {
   "cell_type": "code",
   "execution_count": 16,
   "metadata": {},
   "outputs": [
    {
     "data": {
      "text/plain": [
       "384"
      ]
     },
     "execution_count": 16,
     "metadata": {},
     "output_type": "execute_result"
    }
   ],
   "source": [
    "64 * 6"
   ]
  },
  {
   "cell_type": "code",
   "execution_count": 17,
   "metadata": {},
   "outputs": [
    {
     "data": {
      "text/plain": [
       "633.3333333333334"
      ]
     },
     "execution_count": 17,
     "metadata": {},
     "output_type": "execute_result"
    }
   ],
   "source": [
    "3800 / 6"
   ]
  },
  {
   "cell_type": "code",
   "execution_count": 14,
   "metadata": {},
   "outputs": [
    {
     "data": {
      "text/plain": [
       "33"
      ]
     },
     "execution_count": 14,
     "metadata": {},
     "output_type": "execute_result"
    }
   ],
   "source": [
    "len(\"ATTTCTCTCTCTCTCTGAGATCGATCGATCGAT\") # 33 -> 32"
   ]
  },
  {
   "cell_type": "code",
   "execution_count": 15,
   "metadata": {},
   "outputs": [
    {
     "data": {
      "text/plain": [
       "48"
      ]
     },
     "execution_count": 15,
     "metadata": {},
     "output_type": "execute_result"
    }
   ],
   "source": [
    "len(\"ATTTCTCTCTCTCTCTGAGATCGATCGATCGATATCTCTCGAGCTAGC\") # 48 -> 32"
   ]
  },
  {
   "cell_type": "code",
   "execution_count": 1,
   "metadata": {},
   "outputs": [],
   "source": [
    "import os\n",
    "\n",
    "os.chdir(\"/home/robsyc/Desktop/thesis/MB-VAE-DTI\")"
   ]
  },
  {
   "cell_type": "code",
   "execution_count": 2,
   "metadata": {},
   "outputs": [],
   "source": [
    "import h5torch\n",
    "\n",
    "from mb_vae_dti.processing import load_h5torch_DTI"
   ]
  },
  {
   "cell_type": "code",
   "execution_count": 10,
   "metadata": {},
   "outputs": [
    {
     "name": "stdout",
     "output_type": "stream",
     "text": [
      "0\n",
      "<KeysViewHDF5 ['Drug_ID', 'Drug_InChIKey', 'Drug_SMILES']>\n",
      "1\n",
      "<KeysViewHDF5 ['Target_AA', 'Target_DNA', 'Target_Gene_name', 'Target_ID', 'Target_RefSeq_ID', 'Target_UniProt_ID']>\n",
      "central\n",
      "<KeysViewHDF5 ['data', 'indices']>\n",
      "unstructured\n",
      "<KeysViewHDF5 ['Y_KIBA', 'Y_pKd', 'Y_pKi', 'in_BindingDB_Kd', 'in_BindingDB_Ki', 'in_DAVIS', 'in_KIBA', 'in_Metz', 'split_cold', 'split_rand']>\n",
      "Using boolean mask for mapping (7145 indices)\n",
      "Verified alignment: all unstructured data has 396469 elements\n"
     ]
    },
    {
     "data": {
      "text/plain": [
       "{'central': True,\n",
       " '0/Drug_ID': 'D000028',\n",
       " '0/Drug_InChIKey': 'XZXHXSATPCNXJR-ZIADKAODSA-N',\n",
       " '0/Drug_SMILES': 'COC(=O)c1ccc2c(c1)NC(=O)C2=C(Nc1ccc(N(C)C(=O)CN2CCN(C)CC2)cc1)c1ccccc1',\n",
       " '1/Target_AA': 'MEQPPAPKSKLKKLSEDSLTKQPEEVFDVLEKLGEGSYGSVFKAIHKESGQVVAIKQVPVESDLQEIIKEISIMQQCDSPYVVKYYGSYFKNTDLWIVMEYCGAGSVSDIIRLRNKTLIEDEIATILKSTLKGLEYLHFMRKIHRDIKAGNILLNTEGHAKLADFGVAGQLTDTMAKRNTVIGTPFWMAPEVIQEIGYNCVADIWSLGITSIEMAEGKPPYADIHPMRAIFMIPTNPPPTFRKPELWSDDFTDFVKKCLVKNPEQRATATQLLQHPFIKNAKPVSILRDLITEAMEIKAKRHEEQQRELEEEEENSDEDELDSHTMVKTSVESVGTMRATSTMSEGAQTMIEHNSTMLESDLGTMVINSEDEEEEDGTMKRNATSPQVQRPSFMDYFDKQDFKNKSHENCNQNMHEPFPMSKNVFPDNWKVPQDGDFDFLKNLSLEELQMRLKALDPMMEREIEELRQRYTAKRQPILDAMDAKKRRQQNF',\n",
       " '1/Target_DNA': 'AGTAAACTAAAAAAGCTGAGTGAAGACAGTTTGACTAAGCAGCCTGAAGAAGTTTTTGATGTATTAGAGAAGCTTGGAGAAGGGTCTTATGGAAGTGTATTTAAAGCAATACACAAGGAATCCGGTCAAGTTGTCGCAATTAAACAAGTACCTGTTGAATCAGATCTTCAGGAAATAATCAAAGAAATTTCCATAATGCAGCAATGTGACAGCCCATATGTTGTAAAGTACTATGGCAGTTATTTTAAGAATACAGACCTCTGGATTGTTATGGAGTACTGTGGCGCTGGCTCTGTCTCAGACATAATTAGATTACGAAACAAGACATTAATAGAAGATGAAATTGCAACCATTCTTAAATCTACATTGAAAGGACTAGAATATTTGCACTTTATGAGAAAAATACACAGAGATATAAAAGCTGGAAATATTCTCCTCAATACAGAAGGACATGCAAAATTGGCAGATTTTGGAGTGGCTGGTCAGTTAACAGATACAATGGCAAAACGCAATACTGTAATAGGAACTCCATTTTGGATGGCTCCTGAGGTGATTCAAGAAATAGGCTATAACTGTGTGGCCGACATCTGGTCCCTTGGCATTACTTCTATAGAAATGGCTGAAGGAAAACCTCCTTATGCTGATATACATCCAATGAGGGCTATTTTTATGATTCCCACAAATCCACCACCAACATTCAGAAAGCCAGAACTTTGGTCCGATGATTTCACCGATTTTGTTAAAAAGTGTTTGGTGAAGAATCCTGAGCAGAGAGCTACTGCAACACAACTTTTACAGCATCCTTTTATCAAGAATGCCAAACCTGTATCAATATTAAGAGACCTGATCACAGAAGCTATGGAGATCAAAGCTAAAAGACATGAGGAACAGCAACGAGAATTGGAAGAGGAAGAAGAAAATTCGGATGAAGATGAGCTGGATTCCCACACCATGGTGAAGACTAGTGTGGAGAGTGTGGGCACCATGCGGGCCACAAGCACGATGAGTGAAGGGGCCCAGACCATGATTGAACATAATAGCACGATGTTGGAATCCGACTTGGGGACCATGGTGATAAACAGTGAGGATGAGGAAGAAGAAGATGGAACTATGAAAAGAAATGCAACCTCACCACAAGTACAAAGACCATCTTTCATGGACTACTTTGATAAGCAAGACTTCAAGAATAAGAGTCACGAAAACTGTAATCAGAACATGCATGAACCCTTCCCTATGTCCAAAAACGTTTTTCCTGATAACTGGAAAGTTCCTCAAGATGGAGACTTTGACTTTTTGAAAAATCTAAGTTTAGAAGAACTACAGATGCGGTTAAAAGCACTGGACCCCATGATGGAACGGGAGATAGAAGAACTTCGTCAGAGATACACTGCGAAAAGACAGCCCATTCTGGATGCGATGGATGCAAAGAAAAGAAGGCAGCAAAACTTT',\n",
       " '1/Target_Gene_name': 'STK3',\n",
       " '1/Target_ID': 'T000154',\n",
       " '1/Target_RefSeq_ID': 'NM_001256312',\n",
       " '1/Target_UniProt_ID': 'Q13188',\n",
       " 'unstructured/Y_pKd': 7.419075,\n",
       " 'unstructured/Y_pKi': nan,\n",
       " 'unstructured/Y_KIBA': nan}"
      ]
     },
     "execution_count": 10,
     "metadata": {},
     "output_type": "execute_result"
    }
   ],
   "source": [
    "file_path = \"data/processed/data.h5torch\"\n",
    "with h5torch.File(file_path, \"r\") as f:\n",
    "    for key in f.keys():\n",
    "        print(key)\n",
    "        print(f[key].keys())\n",
    "    targets_new = [s.decode(\"utf-8\") for s in f[\"1/Target_AA\"][:]]\n",
    "\n",
    "test_davis_metz = load_h5torch_DTI(\n",
    "    setting=\"split_cold\",\n",
    "    split=\"test\",\n",
    "    datasets=[\"in_DAVIS\", \"in_Metz\", \"in_BindingDB_Kd\"]\n",
    ")\n",
    "aa = test_davis_metz[153]['1/Target_AA']\n",
    "test_davis_metz[153]\n",
    "\n",
    "# with h5torch.File(file_path, \"r\") as f:\n",
    "#     print(f[\"1/Target_fp\"][153][:20])\n",
    "#     print(f[\"1/Target_fp\"][153].shape)"
   ]
  },
  {
   "cell_type": "code",
   "execution_count": 14,
   "metadata": {},
   "outputs": [
    {
     "name": "stdout",
     "output_type": "stream",
     "text": [
      "<KeysViewHDF5 ['0', 'central']>\n",
      "---\n",
      "0\n",
      "<HDF5 group \"/0\" (4 members)>\n",
      "---\n",
      "central\n",
      "<HDF5 dataset \"central\": shape (3,), type \"<i8\">\n",
      "---\n",
      "[0 1 2]\n",
      "central\n",
      "<class 'numpy.int64'>\n",
      "()\n",
      "int64\n",
      "---\n",
      "0/esm_embeddings\n",
      "<class 'numpy.ndarray'>\n",
      "(2560,)\n",
      "float32\n",
      "---\n",
      "0/espf_embeddings\n",
      "<class 'numpy.ndarray'>\n",
      "(4170,)\n",
      "float32\n",
      "---\n",
      "0/protein_sequences\n",
      "<class 'numpy.str_'>\n",
      "()\n",
      "<U189\n",
      "---\n",
      "0/y\n",
      "<class 'numpy.float64'>\n",
      "()\n",
      "float64\n",
      "---\n"
     ]
    },
    {
     "data": {
      "text/plain": [
       "{'central': 0,\n",
       " '0/esm_embeddings': array([ 0.44986314,  0.67291075, -0.4829714 , ..., -0.1495707 ,\n",
       "         0.19579366,  0.83552694], dtype=float32),\n",
       " '0/espf_embeddings': array([0., 0., 0., ..., 0., 0., 0.], dtype=float32),\n",
       " '0/protein_sequences': 'MTEYKLVVVGAGGVGKSALTIQLIQNHFVDEYDPTIEDSYRKQVVIDGETCLLDILDTAGQEEYSAMRDQYMRTGEGFLCVFAINNTKSFEDIHQYREQIKRVKDSDDVPMVLVGNKCDLAARTVESRQAQDLARSYGIPYIETSAKTRQGVEDAFYTLVREIRQHKLRKLNPPDESGPGCMSCKCVLS',\n",
       " '0/y': 0.918254835710806}"
      ]
     },
     "execution_count": 14,
     "metadata": {},
     "output_type": "execute_result"
    }
   ],
   "source": [
    "file_path = \"data/processed/protein_embeddings_demo.h5torch\"\n",
    "with h5torch.File(file_path, \"r\") as f:\n",
    "    print(f.keys())\n",
    "    for key in f.keys():\n",
    "        print(\"---\")\n",
    "        print(key)\n",
    "        print(f[key])\n",
    "    print(\"---\")\n",
    "    print(f[\"central\"][:])\n",
    "\n",
    "# h5torch dataset\n",
    "demo_dataset = h5torch.Dataset(file_path)\n",
    "sample = demo_dataset[0]\n",
    "for key, value in sample.items():\n",
    "    print(key)\n",
    "    print(type(value))\n",
    "    try:\n",
    "        print(value.shape)\n",
    "        print(value.dtype)\n",
    "    except:\n",
    "        print(len(value))\n",
    "    print(\"---\")\n",
    "\n",
    "sample"
   ]
  },
  {
   "cell_type": "code",
   "execution_count": 11,
   "metadata": {},
   "outputs": [
    {
     "name": "stdout",
     "output_type": "stream",
     "text": [
      "Created demo h5torch file at data/processed/protein_embeddings_demo.h5torch\n",
      "\n",
      "=== Generating ESM embeddings ===\n",
      "Generating embeddings for 3 sequences using ESM...\n",
      "Running embedding command: /home/robsyc/Desktop/thesis/MB-VAE-DTI/external/run_embeddings.sh ESM /home/robsyc/Desktop/thesis/MB-VAE-DTI/external/temp/esm_input_1743971616.txt /home/robsyc/Desktop/thesis/MB-VAE-DTI/external/temp/esm_output_1743971616.npy --batch\n",
      "Error running embedding script: Command '['/home/robsyc/Desktop/thesis/MB-VAE-DTI/external/run_embeddings.sh', 'ESM', '/home/robsyc/Desktop/thesis/MB-VAE-DTI/external/temp/esm_input_1743971616.txt', '/home/robsyc/Desktop/thesis/MB-VAE-DTI/external/temp/esm_output_1743971616.npy', '--batch']' returned non-zero exit status 2.\n",
      "STDOUT: Activating virtual environment at /home/robsyc/Desktop/thesis/MB-VAE-DTI/external/ESM/venv\n",
      "Running: python /home/robsyc/Desktop/thesis/MB-VAE-DTI/external/ESM/script.py --input \"/home/robsyc/Desktop/thesis/MB-VAE-DTI/external/temp/esm_input_1743971616.txt\" --output \"/home/robsyc/Desktop/thesis/MB-VAE-DTI/external/temp/esm_output_1743971616.npy\" --batch\n",
      "\n",
      "STDERR: usage: script.py [-h] --input INPUT --output OUTPUT\n",
      "script.py: error: unrecognized arguments: --batch\n",
      "\n"
     ]
    },
    {
     "ename": "CalledProcessError",
     "evalue": "Command '['/home/robsyc/Desktop/thesis/MB-VAE-DTI/external/run_embeddings.sh', 'ESM', '/home/robsyc/Desktop/thesis/MB-VAE-DTI/external/temp/esm_input_1743971616.txt', '/home/robsyc/Desktop/thesis/MB-VAE-DTI/external/temp/esm_output_1743971616.npy', '--batch']' returned non-zero exit status 2.",
     "output_type": "error",
     "traceback": [
      "\u001b[31m---------------------------------------------------------------------------\u001b[39m",
      "\u001b[31mCalledProcessError\u001b[39m                        Traceback (most recent call last)",
      "\u001b[36mCell\u001b[39m\u001b[36m \u001b[39m\u001b[32mIn[11]\u001b[39m\u001b[32m, line 52\u001b[39m\n\u001b[32m     50\u001b[39m \u001b[38;5;66;03m# Add ESM embeddings\u001b[39;00m\n\u001b[32m     51\u001b[39m \u001b[38;5;28mprint\u001b[39m(\u001b[33m\"\u001b[39m\u001b[38;5;130;01m\\n\u001b[39;00m\u001b[33m=== Generating ESM embeddings ===\u001b[39m\u001b[33m\"\u001b[39m)\n\u001b[32m---> \u001b[39m\u001b[32m52\u001b[39m \u001b[43madd_embeddings_to_h5torch\u001b[49m\u001b[43m(\u001b[49m\n\u001b[32m     53\u001b[39m \u001b[43m    \u001b[49m\u001b[43mh5torch_file_name\u001b[49m\u001b[43m=\u001b[49m\u001b[43mh5torch_file\u001b[49m\u001b[43m,\u001b[49m\n\u001b[32m     54\u001b[39m \u001b[43m    \u001b[49m\u001b[43mrepo_name\u001b[49m\u001b[43m=\u001b[49m\u001b[33;43m\"\u001b[39;49m\u001b[33;43mESM\u001b[39;49m\u001b[33;43m\"\u001b[39;49m\u001b[43m,\u001b[49m\n\u001b[32m     55\u001b[39m \u001b[43m    \u001b[49m\u001b[43mentity_axis\u001b[49m\u001b[43m=\u001b[49m\u001b[32;43m0\u001b[39;49m\u001b[43m,\u001b[49m\n\u001b[32m     56\u001b[39m \u001b[43m    \u001b[49m\u001b[43mfeature_name\u001b[49m\u001b[43m=\u001b[49m\u001b[33;43m\"\u001b[39;49m\u001b[33;43mesm_embeddings\u001b[39;49m\u001b[33;43m\"\u001b[39;49m\u001b[43m,\u001b[49m\n\u001b[32m     57\u001b[39m \u001b[43m    \u001b[49m\u001b[43msequences\u001b[49m\u001b[43m=\u001b[49m\u001b[43mEXAMPLE_PROTEINS\u001b[49m\u001b[43m,\u001b[49m\n\u001b[32m     58\u001b[39m \u001b[43m    \u001b[49m\u001b[43muse_batch\u001b[49m\u001b[43m=\u001b[49m\u001b[38;5;28;43;01mTrue\u001b[39;49;00m\u001b[43m,\u001b[49m\n\u001b[32m     59\u001b[39m \u001b[43m    \u001b[49m\u001b[43moverwrite\u001b[49m\u001b[43m=\u001b[49m\u001b[38;5;28;43;01mTrue\u001b[39;49;00m\n\u001b[32m     60\u001b[39m \u001b[43m)\u001b[49m\n\u001b[32m     62\u001b[39m \u001b[38;5;66;03m# Add ESPF fingerprints\u001b[39;00m\n\u001b[32m     63\u001b[39m \u001b[38;5;28mprint\u001b[39m(\u001b[33m\"\u001b[39m\u001b[38;5;130;01m\\n\u001b[39;00m\u001b[33m=== Generating ESPF fingerprints ===\u001b[39m\u001b[33m\"\u001b[39m)\n",
      "\u001b[36mFile \u001b[39m\u001b[32m~/Desktop/thesis/MB-VAE-DTI/mb_vae_dti/processing/embedding.py:190\u001b[39m, in \u001b[36madd_embeddings_to_h5torch\u001b[39m\u001b[34m(h5torch_file_name, repo_name, entity_axis, feature_name, sequences, use_batch, dtype_save, dtype_load, overwrite)\u001b[39m\n\u001b[32m    187\u001b[39m \u001b[38;5;28mprint\u001b[39m(\u001b[33mf\u001b[39m\u001b[33m\"\u001b[39m\u001b[33mGenerating embeddings for \u001b[39m\u001b[38;5;132;01m{\u001b[39;00m\u001b[38;5;28mlen\u001b[39m(sequences)\u001b[38;5;132;01m}\u001b[39;00m\u001b[33m sequences using \u001b[39m\u001b[38;5;132;01m{\u001b[39;00mrepo_name\u001b[38;5;132;01m}\u001b[39;00m\u001b[33m...\u001b[39m\u001b[33m\"\u001b[39m)\n\u001b[32m    189\u001b[39m \u001b[38;5;66;03m# Generate embeddings\u001b[39;00m\n\u001b[32m--> \u001b[39m\u001b[32m190\u001b[39m embeddings = \u001b[43mgenerate_embeddings\u001b[49m\u001b[43m(\u001b[49m\n\u001b[32m    191\u001b[39m \u001b[43m    \u001b[49m\u001b[43mrepo_name\u001b[49m\u001b[43m=\u001b[49m\u001b[43mrepo_name\u001b[49m\u001b[43m,\u001b[49m\n\u001b[32m    192\u001b[39m \u001b[43m    \u001b[49m\u001b[43msequences\u001b[49m\u001b[43m=\u001b[49m\u001b[43msequences\u001b[49m\u001b[43m,\u001b[49m\n\u001b[32m    193\u001b[39m \u001b[43m    \u001b[49m\u001b[43muse_batch\u001b[49m\u001b[43m=\u001b[49m\u001b[43muse_batch\u001b[49m\n\u001b[32m    194\u001b[39m \u001b[43m\u001b[49m\u001b[43m)\u001b[49m\n\u001b[32m    196\u001b[39m \u001b[38;5;66;03m# Add embeddings to h5torch file\u001b[39;00m\n\u001b[32m    197\u001b[39m add_feature_vector_to_h5torch(\n\u001b[32m    198\u001b[39m     h5torch_file_name=h5torch_file_name,\n\u001b[32m    199\u001b[39m     entity_axis=entity_axis,\n\u001b[32m   (...)\u001b[39m\u001b[32m    204\u001b[39m     overwrite=overwrite\n\u001b[32m    205\u001b[39m )\n",
      "\u001b[36mFile \u001b[39m\u001b[32m~/Desktop/thesis/MB-VAE-DTI/mb_vae_dti/processing/embedding.py:132\u001b[39m, in \u001b[36mgenerate_embeddings\u001b[39m\u001b[34m(repo_name, sequences, use_batch, temp_prefix)\u001b[39m\n\u001b[32m    129\u001b[39m \u001b[38;5;28mprint\u001b[39m(\u001b[33mf\u001b[39m\u001b[33m\"\u001b[39m\u001b[33mRunning embedding command: \u001b[39m\u001b[38;5;132;01m{\u001b[39;00m\u001b[33m'\u001b[39m\u001b[33m \u001b[39m\u001b[33m'\u001b[39m.join(cmd)\u001b[38;5;132;01m}\u001b[39;00m\u001b[33m\"\u001b[39m)\n\u001b[32m    130\u001b[39m \u001b[38;5;28;01mtry\u001b[39;00m:\n\u001b[32m    131\u001b[39m     \u001b[38;5;66;03m# Execute the command\u001b[39;00m\n\u001b[32m--> \u001b[39m\u001b[32m132\u001b[39m     result = \u001b[43msubprocess\u001b[49m\u001b[43m.\u001b[49m\u001b[43mrun\u001b[49m\u001b[43m(\u001b[49m\n\u001b[32m    133\u001b[39m \u001b[43m        \u001b[49m\u001b[43mcmd\u001b[49m\u001b[43m,\u001b[49m\n\u001b[32m    134\u001b[39m \u001b[43m        \u001b[49m\u001b[43mcheck\u001b[49m\u001b[43m=\u001b[49m\u001b[38;5;28;43;01mTrue\u001b[39;49;00m\u001b[43m,\u001b[49m\n\u001b[32m    135\u001b[39m \u001b[43m        \u001b[49m\u001b[43mstdout\u001b[49m\u001b[43m=\u001b[49m\u001b[43msubprocess\u001b[49m\u001b[43m.\u001b[49m\u001b[43mPIPE\u001b[49m\u001b[43m,\u001b[49m\n\u001b[32m    136\u001b[39m \u001b[43m        \u001b[49m\u001b[43mstderr\u001b[49m\u001b[43m=\u001b[49m\u001b[43msubprocess\u001b[49m\u001b[43m.\u001b[49m\u001b[43mPIPE\u001b[49m\u001b[43m,\u001b[49m\n\u001b[32m    137\u001b[39m \u001b[43m        \u001b[49m\u001b[43mtext\u001b[49m\u001b[43m=\u001b[49m\u001b[38;5;28;43;01mTrue\u001b[39;49;00m\n\u001b[32m    138\u001b[39m \u001b[43m    \u001b[49m\u001b[43m)\u001b[49m\n\u001b[32m    140\u001b[39m     \u001b[38;5;28mprint\u001b[39m(result.stdout)\n\u001b[32m    142\u001b[39m     \u001b[38;5;66;03m# Load embeddings\u001b[39;00m\n",
      "\u001b[36mFile \u001b[39m\u001b[32m/usr/lib/python3.11/subprocess.py:569\u001b[39m, in \u001b[36mrun\u001b[39m\u001b[34m(input, capture_output, timeout, check, *popenargs, **kwargs)\u001b[39m\n\u001b[32m    567\u001b[39m     retcode = process.poll()\n\u001b[32m    568\u001b[39m     \u001b[38;5;28;01mif\u001b[39;00m check \u001b[38;5;129;01mand\u001b[39;00m retcode:\n\u001b[32m--> \u001b[39m\u001b[32m569\u001b[39m         \u001b[38;5;28;01mraise\u001b[39;00m CalledProcessError(retcode, process.args,\n\u001b[32m    570\u001b[39m                                  output=stdout, stderr=stderr)\n\u001b[32m    571\u001b[39m \u001b[38;5;28;01mreturn\u001b[39;00m CompletedProcess(process.args, retcode, stdout, stderr)\n",
      "\u001b[31mCalledProcessError\u001b[39m: Command '['/home/robsyc/Desktop/thesis/MB-VAE-DTI/external/run_embeddings.sh', 'ESM', '/home/robsyc/Desktop/thesis/MB-VAE-DTI/external/temp/esm_input_1743971616.txt', '/home/robsyc/Desktop/thesis/MB-VAE-DTI/external/temp/esm_output_1743971616.npy', '--batch']' returned non-zero exit status 2."
     ]
    }
   ],
   "source": [
    "import os\n",
    "import numpy as np\n",
    "from pathlib import Path\n",
    "import h5torch\n",
    "from typing import List\n",
    "\n",
    "from mb_vae_dti.processing.embedding import add_embeddings_to_h5torch, PROCESSED_DIR\n",
    "\n",
    "# Example protein sequences (short ones for demonstration)\n",
    "EXAMPLE_PROTEINS = [\n",
    "    \"MTEYKLVVVGAGGVGKSALTIQLIQNHFVDEYDPTIEDSYRKQVVIDGETCLLDILDTAGQEEYSAMRDQYMRTGEGFLCVFAINNTKSFEDIHQYREQIKRVKDSDDVPMVLVGNKCDLAARTVESRQAQDLARSYGIPYIETSAKTRQGVEDAFYTLVREIRQHKLRKLNPPDESGPGCMSCKCVLS\",  # KRAS\n",
    "    \"MAQTGTEKTPEGPQPDRVQKFPGDTASQRITFASDGASIKGLQHPIRYLEEGEFFMAFKERFGDVNFVIGKDTLFTCKDEKVLQNFPTVVPDARRKPVSPFEGAPSITCFHCSTGFSWFAQSVTGKSHIQPGTSWDQTWEPKRNLKCRCGQEYESEGSRCKCCVDKTPKPQPAVRPTGRAFCSSHSTPGAKFQSSAVCGPHLQAKKEDNSKTMTRVTRKAAHELGRPLTPDSATVEKRKAKKTEECKSPAKNGDSFWAKDAKLDNVDLKDWEDMTDYIVDQKKELEKYCNTKCPKCKVFGPAILNRILKCKVIILAPAPDEEMITFQVEHHLDKKKFHDTLKKLGNINVFCAPVDIEEGVVVVDPLNSTSTNDPEVFKFCNFRKKSWFGKPTFSHTVPKYKHYIEVPEEPHVVLSLEPQAIQEGFKSLSDQAKDLLDQVNVYCPVLAETYKKMGVPDVIEVSPNKEPVCAVCGESIPTNIMLFCNDCGIYCCRKCQLEHLEGDKKRRGKKVESENSPVEKKKEPNKEAMQEEQQHSFLNRSRRRKLTKYVQDSQYDAHMKEKDKRWRLSQNKKDKGIRKLLDLEKEPSKEDTVKLDLTEKFRLSWTVVKDKALFHSIYEVEEIDGIGVLTLNQGADPDSLDQLKQKFQMLSKLPSNPADDPFVKIAELLGDNHLDLRRRQNLRNIKIGEFYLERKRTISPEDFIKTLTKGTFVTRSAYDNVIDATICDTCSQKSTTIDKPDRTPLKKGKLASKKPKPVKTKKGKKTVRTHSKTKSKKVPPKKRRDPNMNASIVGSDRGNVEVERPSTKTLKLSIQKLKDPVNPKPPPPPKTKTTPTPSQHINQNQVQEPTTKQQQESTTACERRRRETPTPTPPQAPPPPTQVNPGAQKNGLTPPQKKAKTAQKKPTTKKTVKKKQRLNKIISKVAELVHKKNAAKRSKLGKKVRKAKQSKKKDSEGASVNLTKDCNGVLMKSKLTKSRDLDRRKEKDLKDREKTKEKDLKDREKTKEKEPSKTSKVLKKDLTKPSIMSKKAKRKIKTTKGKVKSGRKGSKGDTSTKKKVKAKKPTKKSVKRSLAPETDEFDLEKDRKSLEESSNFEIEELPEQPNDLTELDIIDELSSYLDEPVDLEDYDSDEETSATSDSDSDSEYTKTSEVDLGSAVDVEGSAVDVEGSAVDVEGSSEVDRSDSEVETTTENTVETDRSENETAPKKKKKK\",  # PARP1\n",
    "    \"MDVFMKGLSKAKEGVVAAAEKTKQGVAEAAGKTKEGVLYVGSKTKEGVVHGVATVAEKTKEQVTNVGGAVVTGVTAVAQKTVEGAGSIAAATGFVKKDQLGKNEEGAPQEGILEDMPVDPDNEAYEMPSEEGYQDYEPEA\"  # Alpha-synuclein\n",
    "]\n",
    "\n",
    "# Create a simple h5torch file for demonstration\n",
    "def create_demo_h5torch_file(file_name: str, sequences: List[str], overwrite: bool = False):\n",
    "    \"\"\"Create a demonstration h5torch file with proteins\"\"\"\n",
    "    file_path = PROCESSED_DIR / file_name\n",
    "    \n",
    "    if file_path.exists() and not overwrite:\n",
    "        print(f\"File {file_path} already exists. Not overwriting.\")\n",
    "        return\n",
    "    \n",
    "    idx = np.arange(len(sequences))\n",
    "    sequences = np.array(sequences)\n",
    "    \n",
    "    # Create the h5torch file\n",
    "    f = h5torch.File(file_path, \"w\")\n",
    "    \n",
    "    # Register the ids as the central object\n",
    "    f.register(idx, \"central\")\n",
    "    \n",
    "    # Register protein sequences as metadata aligned with axis 0\n",
    "    f.register(sequences, 0, name=\"protein_sequences\", dtype_save=\"bytes\", dtype_load=\"str\")\n",
    "    \n",
    "    # Create some dummy labels for the proteins\n",
    "    protein_labels = np.random.rand(len(sequences))\n",
    "    f.register(protein_labels, 0, name=\"y\")\n",
    "    \n",
    "    f.close()\n",
    "    print(f\"Created demo h5torch file at {file_path}\")\n",
    "    \n",
    "    return file_path\n",
    "\n",
    "# Create the demo file\n",
    "h5torch_file = \"protein_embeddings_demo.h5torch\"\n",
    "create_demo_h5torch_file(h5torch_file, EXAMPLE_PROTEINS, overwrite=True)\n",
    "\n",
    "# Add ESM embeddings\n",
    "print(\"\\n=== Generating ESM embeddings ===\")\n",
    "add_embeddings_to_h5torch(\n",
    "    h5torch_file_name=h5torch_file,\n",
    "    repo_name=\"ESM\",\n",
    "    entity_axis=0,\n",
    "    feature_name=\"esm_embeddings\",\n",
    "    sequences=EXAMPLE_PROTEINS,\n",
    "    use_batch=True,\n",
    "    overwrite=True\n",
    ")\n",
    "\n",
    "# Add ESPF fingerprints\n",
    "print(\"\\n=== Generating ESPF fingerprints ===\")\n",
    "add_embeddings_to_h5torch(\n",
    "    h5torch_file_name=h5torch_file,\n",
    "    repo_name=\"ESPF\",\n",
    "    entity_axis=0,\n",
    "    feature_name=\"espf_fingerprints\",\n",
    "    sequences=EXAMPLE_PROTEINS,\n",
    "    use_batch=False,\n",
    "    overwrite=True\n",
    ")\n",
    "\n",
    "# Print the h5torch file structure to verify\n",
    "f = h5torch.File(PROCESSED_DIR / h5torch_file, \"r\")\n",
    "print(\"\\n=== H5Torch File Structure ===\")\n",
    "print(f\"Available features: {list(f[1].keys())}\")\n",
    "\n",
    "# Print ESM embedding shape\n",
    "if \"esm_embeddings\" in f[1]:\n",
    "    print(f\"ESM embeddings shape: {f[1]['esm_embeddings'].shape}\")\n",
    "\n",
    "# Print ESPF fingerprint shape\n",
    "if \"espf_fingerprints\" in f[1]:\n",
    "    print(f\"ESPF fingerprints shape: {f[1]['espf_fingerprints'].shape}\")\n",
    "\n",
    "f.close()"
   ]
  },
  {
   "cell_type": "code",
   "execution_count": null,
   "metadata": {},
   "outputs": [],
   "source": []
  },
  {
   "cell_type": "code",
   "execution_count": null,
   "metadata": {},
   "outputs": [],
   "source": []
  },
  {
   "cell_type": "code",
   "execution_count": 4,
   "metadata": {},
   "outputs": [
    {
     "name": "stdout",
     "output_type": "stream",
     "text": [
      "[0. 0. 0. 0. 0. 0. 1. 0. 0. 0. 0. 0. 0. 0. 0. 0. 0. 1. 0. 0.]\n",
      "(4170,)\n"
     ]
    }
   ],
   "source": []
  },
  {
   "cell_type": "code",
   "execution_count": 7,
   "metadata": {},
   "outputs": [
    {
     "name": "stdout",
     "output_type": "stream",
     "text": [
      "(4170,)\n",
      "[0. 0. 0. 0. 0. 0. 1. 0. 0. 0. 0. 0. 0. 0. 0. 0. 0. 1. 0. 0.]\n"
     ]
    }
   ],
   "source": [
    "from mb_vae_dti.processing.embed_helper import get_target_fingerprint\n",
    "\n",
    "aa_fp = get_target_fingerprint(aa)\n",
    "print(aa_fp.shape)\n",
    "print(aa_fp[:20])"
   ]
  },
  {
   "cell_type": "code",
   "execution_count": 8,
   "metadata": {},
   "outputs": [],
   "source": []
  },
  {
   "cell_type": "code",
   "execution_count": 9,
   "metadata": {},
   "outputs": [
    {
     "name": "stdout",
     "output_type": "stream",
     "text": [
      "Processing 2047 entities with batch size 32, output dimension (4170,)\n"
     ]
    },
    {
     "name": "stderr",
     "output_type": "stream",
     "text": [
      "Processing Target_fp batches: 100%|██████████| 64/64 [00:15<00:00,  4.08it/s]\n"
     ]
    },
    {
     "name": "stdout",
     "output_type": "stream",
     "text": [
      "Successfully added Target_fp to data/processed/data.h5torch\n",
      "Processing 149962 entities with batch size 1, output dimension (2048,)\n"
     ]
    },
    {
     "name": "stderr",
     "output_type": "stream",
     "text": [
      "Processing Drug_fp batches: 100%|██████████| 149962/149962 [02:12<00:00, 1135.22it/s]\n"
     ]
    },
    {
     "name": "stdout",
     "output_type": "stream",
     "text": [
      "Successfully added Drug_fp to data/processed/data.h5torch\n"
     ]
    }
   ],
   "source": [
    "from mb_vae_dti.processing.embed_helper import get_target_fingerprint\n",
    "\n",
    "# Example 1: For a function that can process batches:\n",
    "def batch_target_fingerprint(sequences):\n",
    "    \"\"\"Process multiple sequences at once\"\"\"\n",
    "    if isinstance(sequences, str):\n",
    "        return get_target_fingerprint(sequences)\n",
    "    else:\n",
    "        # Process a batch of sequences\n",
    "        return [get_target_fingerprint(seq) for seq in sequences]\n",
    "\n",
    "# Using batch processing (process 32 sequences at a time)\n",
    "add_processed_feature(\n",
    "    file_path=\"data/processed/data.h5torch\",\n",
    "    entity_path=\"1/Target_AA\",\n",
    "    process_func=batch_target_fingerprint,\n",
    "    feature_name=\"Target_fp\",\n",
    "    batch_size=32,\n",
    "    overwrite=True\n",
    ")\n",
    "\n",
    "# Example 2: If you had a drug fingerprint function\n",
    "from mb_vae_dti.processing.embed_helper import get_drug_fingerprint\n",
    "\n",
    "add_processed_feature(\n",
    "    file_path=\"data/processed/data.h5torch\",\n",
    "    entity_path=\"0/Drug_SMILES\",\n",
    "    process_func=get_drug_fingerprint,\n",
    "    feature_name=\"Drug_fp\"\n",
    ")"
   ]
  },
  {
   "cell_type": "markdown",
   "metadata": {},
   "source": [
    "---\n",
    "---"
   ]
  },
  {
   "cell_type": "code",
   "execution_count": 6,
   "metadata": {},
   "outputs": [],
   "source": [
    "from mb_vae_dti.processing.embed_helper import esm_batch_embed"
   ]
  },
  {
   "cell_type": "code",
   "execution_count": 7,
   "metadata": {},
   "outputs": [],
   "source": [
    "aa1 = test_davis_metz[153]['1/Target_AA']\n",
    "aa2 = test_davis_metz[13]['1/Target_AA']"
   ]
  },
  {
   "cell_type": "code",
   "execution_count": 8,
   "metadata": {},
   "outputs": [
    {
     "data": {
      "text/plain": [
       "(491, 765)"
      ]
     },
     "execution_count": 8,
     "metadata": {},
     "output_type": "execute_result"
    }
   ],
   "source": [
    "len(aa1), len(aa2)"
   ]
  },
  {
   "cell_type": "code",
   "execution_count": 9,
   "metadata": {},
   "outputs": [
    {
     "name": "stdout",
     "output_type": "stream",
     "text": [
      "torch.Size([1, 1, 493, 2560])\n",
      "torch.Size([1, 1, 2560])\n",
      "torch.Size([1, 1, 767, 2560])\n",
      "torch.Size([1, 1, 2560])\n"
     ]
    }
   ],
   "source": [
    "result = esm_batch_embed([aa1, aa2])"
   ]
  },
  {
   "cell_type": "code",
   "execution_count": 10,
   "metadata": {},
   "outputs": [
    {
     "data": {
      "text/plain": [
       "array([-0.00486905,  0.95842147, -0.0560879 , ..., -0.53510505,\n",
       "       -0.0018255 ,  0.4314135 ], dtype=float32)"
      ]
     },
     "execution_count": 10,
     "metadata": {},
     "output_type": "execute_result"
    }
   ],
   "source": [
    "result[0]"
   ]
  },
  {
   "cell_type": "code",
   "execution_count": 11,
   "metadata": {},
   "outputs": [
    {
     "data": {
      "text/plain": [
       "(2560,)"
      ]
     },
     "execution_count": 11,
     "metadata": {},
     "output_type": "execute_result"
    }
   ],
   "source": [
    "result[1].shape"
   ]
  },
  {
   "cell_type": "code",
   "execution_count": null,
   "metadata": {},
   "outputs": [],
   "source": []
  }
 ],
 "metadata": {
  "kernelspec": {
   "display_name": ".venv",
   "language": "python",
   "name": "python3"
  },
  "language_info": {
   "codemirror_mode": {
    "name": "ipython",
    "version": 3
   },
   "file_extension": ".py",
   "mimetype": "text/x-python",
   "name": "python",
   "nbconvert_exporter": "python",
   "pygments_lexer": "ipython3",
   "version": "3.11.0rc1"
  }
 },
 "nbformat": 4,
 "nbformat_minor": 2
}
