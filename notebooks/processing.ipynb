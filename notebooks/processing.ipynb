{
 "cells": [
  {
   "cell_type": "markdown",
   "metadata": {},
   "source": [
    "# Processing Drug-Target Interaction Data\n",
    "\n",
    "This notebook covers:\n",
    "- Converting merged DTI data into an `h5torch` dataset\n",
    "- Splitting the dataset (stratified) into train/val/test in two settings: random split, and cold-start split\n",
    "- Computing embeddings from foundation models and storing them in the `h5torch` file\n",
    "    - Drugs: `MMELON` (graph, image, text), and `RDKit` fingerprints\n",
    "    - Targets: `NT`, `ESM`, and `ESPF` fingerprints\n",
    "- Visualizing the foundatoin model embeddings"
   ]
  },
  {
   "cell_type": "code",
   "execution_count": 1,
   "metadata": {},
   "outputs": [
    {
     "name": "stdout",
     "output_type": "stream",
     "text": [
      "Setting working directory to: /home/robsyc/Desktop/thesis/MB-VAE-DTI\n"
     ]
    }
   ],
   "source": [
    "from resolve import *"
   ]
  },
  {
   "cell_type": "code",
   "execution_count": 2,
   "metadata": {},
   "outputs": [
    {
     "data": {
      "text/html": [
       "<div>\n",
       "<style scoped>\n",
       "    .dataframe tbody tr th:only-of-type {\n",
       "        vertical-align: middle;\n",
       "    }\n",
       "\n",
       "    .dataframe tbody tr th {\n",
       "        vertical-align: top;\n",
       "    }\n",
       "\n",
       "    .dataframe thead th {\n",
       "        text-align: right;\n",
       "    }\n",
       "</style>\n",
       "<table border=\"1\" class=\"dataframe\">\n",
       "  <thead>\n",
       "    <tr style=\"text-align: right;\">\n",
       "      <th></th>\n",
       "      <th>Drug_ID</th>\n",
       "      <th>Drug_InChIKey</th>\n",
       "      <th>Drug_SMILES</th>\n",
       "      <th>Target_ID</th>\n",
       "      <th>Target_UniProt_ID</th>\n",
       "      <th>Target_Gene_name</th>\n",
       "      <th>Target_RefSeq_ID</th>\n",
       "      <th>Target_AA</th>\n",
       "      <th>Target_DNA</th>\n",
       "      <th>Y</th>\n",
       "      <th>Y_pKd</th>\n",
       "      <th>Y_pKi</th>\n",
       "      <th>Y_KIBA</th>\n",
       "      <th>in_DAVIS</th>\n",
       "      <th>in_BindingDB_Kd</th>\n",
       "      <th>in_BindingDB_Ki</th>\n",
       "      <th>in_Metz</th>\n",
       "      <th>in_KIBA</th>\n",
       "    </tr>\n",
       "  </thead>\n",
       "  <tbody>\n",
       "    <tr>\n",
       "      <th>198528</th>\n",
       "      <td>D084829</td>\n",
       "      <td>MVCOAUNKQVWQHZ-UHFFFAOYSA-N</td>\n",
       "      <td>Cc1ccc(-n2nc(C(C)(C)C)cc2NC(=O)Nc2ccc(OCCN3CCO...</td>\n",
       "      <td>T000405</td>\n",
       "      <td>Q05397</td>\n",
       "      <td>PTK2</td>\n",
       "      <td>NM_001199649</td>\n",
       "      <td>MISADCNLCLPEYDRYLASSKIMAAAYLDPNLNHTPNSSTKTHLGT...</td>\n",
       "      <td>GGTACTGGTATGGAACGTTCTCCTGGTGCAATGGAGCGAGTATTAA...</td>\n",
       "      <td>False</td>\n",
       "      <td>5.148736</td>\n",
       "      <td>NaN</td>\n",
       "      <td>NaN</td>\n",
       "      <td>True</td>\n",
       "      <td>False</td>\n",
       "      <td>False</td>\n",
       "      <td>False</td>\n",
       "      <td>False</td>\n",
       "    </tr>\n",
       "    <tr>\n",
       "      <th>17938</th>\n",
       "      <td>D008106</td>\n",
       "      <td>PBBRWFOVCUAONR-UHFFFAOYSA-N</td>\n",
       "      <td>CC(C)(C)n1nc(-c2ccc(Cl)cc2)c2c(N)ncnc21</td>\n",
       "      <td>T000197</td>\n",
       "      <td>P00519</td>\n",
       "      <td>ABL1</td>\n",
       "      <td>NM_005157</td>\n",
       "      <td>MLEICLKLVGCKSKKGLSSSSSCYLEEALQRPVASDFEPQGLSEAA...</td>\n",
       "      <td>ATGTTGGAGATCTGCCTGAAGCTGGTGGGCTGCAAATCCAAGAAGG...</td>\n",
       "      <td>True</td>\n",
       "      <td>NaN</td>\n",
       "      <td>6.300943</td>\n",
       "      <td>12.800523</td>\n",
       "      <td>False</td>\n",
       "      <td>False</td>\n",
       "      <td>True</td>\n",
       "      <td>False</td>\n",
       "      <td>True</td>\n",
       "    </tr>\n",
       "    <tr>\n",
       "      <th>64374</th>\n",
       "      <td>D031754</td>\n",
       "      <td>JBHLYIVFFLNISJ-UHFFFAOYSA-N</td>\n",
       "      <td>CCCCN1CCC(CCC(=O)c2cc(Cl)c(N)cc2OC)CC1</td>\n",
       "      <td>T000565</td>\n",
       "      <td>P22909</td>\n",
       "      <td>Adra2a</td>\n",
       "      <td>NM_012739</td>\n",
       "      <td>MGSLQPDAGNSSWNGTEAPGGGTRATPYSLQVTLTLVCLAGLLMLF...</td>\n",
       "      <td>ATGGGCTCCCTGCAGCCGGATGCCGGCAATAGCAGCTGGAACGGCA...</td>\n",
       "      <td>False</td>\n",
       "      <td>NaN</td>\n",
       "      <td>4.999996</td>\n",
       "      <td>NaN</td>\n",
       "      <td>False</td>\n",
       "      <td>False</td>\n",
       "      <td>True</td>\n",
       "      <td>False</td>\n",
       "      <td>False</td>\n",
       "    </tr>\n",
       "    <tr>\n",
       "      <th>101579</th>\n",
       "      <td>D047166</td>\n",
       "      <td>QJONJVMVPXLFKY-UHFFFAOYSA-N</td>\n",
       "      <td>CN(C)CCC1CNc2ccccc21</td>\n",
       "      <td>T001253</td>\n",
       "      <td>P30994</td>\n",
       "      <td>Htr2b</td>\n",
       "      <td>NM_017250</td>\n",
       "      <td>MASSYKMSEQSTISEHILQKTCDHLILTDRSGLKAESAAEEMKQTA...</td>\n",
       "      <td>ATGGCTTCATCTTATAAAATGTCTGAACAAAGCACAATTTCTGAGC...</td>\n",
       "      <td>False</td>\n",
       "      <td>5.679978</td>\n",
       "      <td>NaN</td>\n",
       "      <td>NaN</td>\n",
       "      <td>False</td>\n",
       "      <td>True</td>\n",
       "      <td>False</td>\n",
       "      <td>False</td>\n",
       "      <td>False</td>\n",
       "    </tr>\n",
       "    <tr>\n",
       "      <th>104794</th>\n",
       "      <td>D048482</td>\n",
       "      <td>RHIGFHFPOVIGFR-UHFFFAOYSA-N</td>\n",
       "      <td>CN(C)c1nc2c(c(CF)nn2C(c2ccc(CC(F)(F)F)cc2)C2CC...</td>\n",
       "      <td>T000653</td>\n",
       "      <td>O00408</td>\n",
       "      <td>PDE2A</td>\n",
       "      <td>NM_001143839</td>\n",
       "      <td>MGQACGHSILCRSQQYPAARPAEPRGQQVFLKPDEPPPPPQPCADS...</td>\n",
       "      <td>AAGCCGGACGAGCCGCCGCCGCCGCCGCAGCCATGCGCCGACAGCC...</td>\n",
       "      <td>True</td>\n",
       "      <td>NaN</td>\n",
       "      <td>9.301117</td>\n",
       "      <td>NaN</td>\n",
       "      <td>False</td>\n",
       "      <td>False</td>\n",
       "      <td>True</td>\n",
       "      <td>False</td>\n",
       "      <td>False</td>\n",
       "    </tr>\n",
       "    <tr>\n",
       "      <th>...</th>\n",
       "      <td>...</td>\n",
       "      <td>...</td>\n",
       "      <td>...</td>\n",
       "      <td>...</td>\n",
       "      <td>...</td>\n",
       "      <td>...</td>\n",
       "      <td>...</td>\n",
       "      <td>...</td>\n",
       "      <td>...</td>\n",
       "      <td>...</td>\n",
       "      <td>...</td>\n",
       "      <td>...</td>\n",
       "      <td>...</td>\n",
       "      <td>...</td>\n",
       "      <td>...</td>\n",
       "      <td>...</td>\n",
       "      <td>...</td>\n",
       "      <td>...</td>\n",
       "    </tr>\n",
       "    <tr>\n",
       "      <th>108235</th>\n",
       "      <td>D050532</td>\n",
       "      <td>MHNSOBBJZCWUGS-UHFFFAOYSA-N</td>\n",
       "      <td>CN1C2CCC1CC(OC(c1ccc(F)cc1)c1ccc(F)cc1)C2</td>\n",
       "      <td>T000532</td>\n",
       "      <td>P11229</td>\n",
       "      <td>CHRM1</td>\n",
       "      <td>NM_000738</td>\n",
       "      <td>MNTSAPPAVSPNITVLAPGKGPWQVAFIGITTGLLSLATVTGNLLV...</td>\n",
       "      <td>ATGAACACTTCAGCCCCACCTGCTGTCAGCCCCAACATCACCGTCC...</td>\n",
       "      <td>True</td>\n",
       "      <td>NaN</td>\n",
       "      <td>7.931814</td>\n",
       "      <td>NaN</td>\n",
       "      <td>False</td>\n",
       "      <td>False</td>\n",
       "      <td>True</td>\n",
       "      <td>False</td>\n",
       "      <td>False</td>\n",
       "    </tr>\n",
       "    <tr>\n",
       "      <th>251263</th>\n",
       "      <td>D104455</td>\n",
       "      <td>VOQXQYXTZZHYBF-UHFFFAOYSA-N</td>\n",
       "      <td>NC(=O)c1cc(-c2ccnc(N)n2)[nH]c1-c1ccccc1</td>\n",
       "      <td>T000463</td>\n",
       "      <td>Q15759</td>\n",
       "      <td>MAPK11</td>\n",
       "      <td>NM_002751</td>\n",
       "      <td>MSGPRAGFYRQELNKTVWEVPQRLQGLRPVGSGAYGSVCSAYDARL...</td>\n",
       "      <td>ATGTCGGGCCCTCGCGCCGGCTTCTACCGGCAGGAGCTGAACAAGA...</td>\n",
       "      <td>False</td>\n",
       "      <td>NaN</td>\n",
       "      <td>NaN</td>\n",
       "      <td>11.100000</td>\n",
       "      <td>False</td>\n",
       "      <td>False</td>\n",
       "      <td>False</td>\n",
       "      <td>False</td>\n",
       "      <td>True</td>\n",
       "    </tr>\n",
       "    <tr>\n",
       "      <th>297843</th>\n",
       "      <td>D120746</td>\n",
       "      <td>KYRNYPFGGXYKMJ-SZPZYZBQSA-N</td>\n",
       "      <td>O=C(Nc1cn(CC(=O)N2CC3CN(CCCOC(=O)N4CCOCC4)CC3C...</td>\n",
       "      <td>T000192</td>\n",
       "      <td>O60674</td>\n",
       "      <td>JAK2</td>\n",
       "      <td>NM_001322194</td>\n",
       "      <td>MGMACLTMTEMEGTSTSSIYQNGDISGNANSMKQIDPVLQVYLYHS...</td>\n",
       "      <td>ATGGGAATGGCCTGCCTTACGATGACAGAAATGGAGGGAACATCCA...</td>\n",
       "      <td>True</td>\n",
       "      <td>NaN</td>\n",
       "      <td>8.935542</td>\n",
       "      <td>NaN</td>\n",
       "      <td>False</td>\n",
       "      <td>False</td>\n",
       "      <td>True</td>\n",
       "      <td>False</td>\n",
       "      <td>False</td>\n",
       "    </tr>\n",
       "    <tr>\n",
       "      <th>326277</th>\n",
       "      <td>D131894</td>\n",
       "      <td>MFDQZXJQNRUGNV-UHFFFAOYSA-N</td>\n",
       "      <td>O=c1oc2ccccc2n1CCCCN1CCN(CC2CCCCC2)CC1</td>\n",
       "      <td>T000598</td>\n",
       "      <td>Q5U3Y7</td>\n",
       "      <td>Tmem97</td>\n",
       "      <td>NM_001008334</td>\n",
       "      <td>MGAVTARRCVEWLLGLYFVSHIPITMFIDLQALLPPELYPQEFSNL...</td>\n",
       "      <td>ATGGGGGCTGTAACAGCCAGGCGCTGCGTCGAGTGGCTGCTGGGCC...</td>\n",
       "      <td>True</td>\n",
       "      <td>NaN</td>\n",
       "      <td>7.853872</td>\n",
       "      <td>NaN</td>\n",
       "      <td>False</td>\n",
       "      <td>False</td>\n",
       "      <td>True</td>\n",
       "      <td>False</td>\n",
       "      <td>False</td>\n",
       "    </tr>\n",
       "    <tr>\n",
       "      <th>50988</th>\n",
       "      <td>D024372</td>\n",
       "      <td>OGNIKEZMPYZWPL-UHFFFAOYSA-N</td>\n",
       "      <td>CCC(=O)NCC1Cc2cccc3ccc(OC)c1c23</td>\n",
       "      <td>T000059</td>\n",
       "      <td>P49286</td>\n",
       "      <td>MTNR1B</td>\n",
       "      <td>NM_005959</td>\n",
       "      <td>MSENGSFANCCEAGGWAVRPGWSGAGSARPSRTPRPPWVAPALSAV...</td>\n",
       "      <td>ATGTCAGAGAACGGCTCCTTCGCCAACTGCTGCGAGGCGGGCGGGT...</td>\n",
       "      <td>True</td>\n",
       "      <td>NaN</td>\n",
       "      <td>9.732828</td>\n",
       "      <td>NaN</td>\n",
       "      <td>False</td>\n",
       "      <td>False</td>\n",
       "      <td>True</td>\n",
       "      <td>False</td>\n",
       "      <td>False</td>\n",
       "    </tr>\n",
       "  </tbody>\n",
       "</table>\n",
       "<p>100 rows × 18 columns</p>\n",
       "</div>"
      ],
      "text/plain": [
       "        Drug_ID                Drug_InChIKey  \\\n",
       "198528  D084829  MVCOAUNKQVWQHZ-UHFFFAOYSA-N   \n",
       "17938   D008106  PBBRWFOVCUAONR-UHFFFAOYSA-N   \n",
       "64374   D031754  JBHLYIVFFLNISJ-UHFFFAOYSA-N   \n",
       "101579  D047166  QJONJVMVPXLFKY-UHFFFAOYSA-N   \n",
       "104794  D048482  RHIGFHFPOVIGFR-UHFFFAOYSA-N   \n",
       "...         ...                          ...   \n",
       "108235  D050532  MHNSOBBJZCWUGS-UHFFFAOYSA-N   \n",
       "251263  D104455  VOQXQYXTZZHYBF-UHFFFAOYSA-N   \n",
       "297843  D120746  KYRNYPFGGXYKMJ-SZPZYZBQSA-N   \n",
       "326277  D131894  MFDQZXJQNRUGNV-UHFFFAOYSA-N   \n",
       "50988   D024372  OGNIKEZMPYZWPL-UHFFFAOYSA-N   \n",
       "\n",
       "                                              Drug_SMILES Target_ID  \\\n",
       "198528  Cc1ccc(-n2nc(C(C)(C)C)cc2NC(=O)Nc2ccc(OCCN3CCO...   T000405   \n",
       "17938             CC(C)(C)n1nc(-c2ccc(Cl)cc2)c2c(N)ncnc21   T000197   \n",
       "64374              CCCCN1CCC(CCC(=O)c2cc(Cl)c(N)cc2OC)CC1   T000565   \n",
       "101579                               CN(C)CCC1CNc2ccccc21   T001253   \n",
       "104794  CN(C)c1nc2c(c(CF)nn2C(c2ccc(CC(F)(F)F)cc2)C2CC...   T000653   \n",
       "...                                                   ...       ...   \n",
       "108235          CN1C2CCC1CC(OC(c1ccc(F)cc1)c1ccc(F)cc1)C2   T000532   \n",
       "251263            NC(=O)c1cc(-c2ccnc(N)n2)[nH]c1-c1ccccc1   T000463   \n",
       "297843  O=C(Nc1cn(CC(=O)N2CC3CN(CCCOC(=O)N4CCOCC4)CC3C...   T000192   \n",
       "326277             O=c1oc2ccccc2n1CCCCN1CCN(CC2CCCCC2)CC1   T000598   \n",
       "50988                     CCC(=O)NCC1Cc2cccc3ccc(OC)c1c23   T000059   \n",
       "\n",
       "       Target_UniProt_ID Target_Gene_name Target_RefSeq_ID  \\\n",
       "198528            Q05397             PTK2     NM_001199649   \n",
       "17938             P00519             ABL1        NM_005157   \n",
       "64374             P22909           Adra2a        NM_012739   \n",
       "101579            P30994            Htr2b        NM_017250   \n",
       "104794            O00408            PDE2A     NM_001143839   \n",
       "...                  ...              ...              ...   \n",
       "108235            P11229            CHRM1        NM_000738   \n",
       "251263            Q15759           MAPK11        NM_002751   \n",
       "297843            O60674             JAK2     NM_001322194   \n",
       "326277            Q5U3Y7           Tmem97     NM_001008334   \n",
       "50988             P49286           MTNR1B        NM_005959   \n",
       "\n",
       "                                                Target_AA  \\\n",
       "198528  MISADCNLCLPEYDRYLASSKIMAAAYLDPNLNHTPNSSTKTHLGT...   \n",
       "17938   MLEICLKLVGCKSKKGLSSSSSCYLEEALQRPVASDFEPQGLSEAA...   \n",
       "64374   MGSLQPDAGNSSWNGTEAPGGGTRATPYSLQVTLTLVCLAGLLMLF...   \n",
       "101579  MASSYKMSEQSTISEHILQKTCDHLILTDRSGLKAESAAEEMKQTA...   \n",
       "104794  MGQACGHSILCRSQQYPAARPAEPRGQQVFLKPDEPPPPPQPCADS...   \n",
       "...                                                   ...   \n",
       "108235  MNTSAPPAVSPNITVLAPGKGPWQVAFIGITTGLLSLATVTGNLLV...   \n",
       "251263  MSGPRAGFYRQELNKTVWEVPQRLQGLRPVGSGAYGSVCSAYDARL...   \n",
       "297843  MGMACLTMTEMEGTSTSSIYQNGDISGNANSMKQIDPVLQVYLYHS...   \n",
       "326277  MGAVTARRCVEWLLGLYFVSHIPITMFIDLQALLPPELYPQEFSNL...   \n",
       "50988   MSENGSFANCCEAGGWAVRPGWSGAGSARPSRTPRPPWVAPALSAV...   \n",
       "\n",
       "                                               Target_DNA      Y     Y_pKd  \\\n",
       "198528  GGTACTGGTATGGAACGTTCTCCTGGTGCAATGGAGCGAGTATTAA...  False  5.148736   \n",
       "17938   ATGTTGGAGATCTGCCTGAAGCTGGTGGGCTGCAAATCCAAGAAGG...   True       NaN   \n",
       "64374   ATGGGCTCCCTGCAGCCGGATGCCGGCAATAGCAGCTGGAACGGCA...  False       NaN   \n",
       "101579  ATGGCTTCATCTTATAAAATGTCTGAACAAAGCACAATTTCTGAGC...  False  5.679978   \n",
       "104794  AAGCCGGACGAGCCGCCGCCGCCGCCGCAGCCATGCGCCGACAGCC...   True       NaN   \n",
       "...                                                   ...    ...       ...   \n",
       "108235  ATGAACACTTCAGCCCCACCTGCTGTCAGCCCCAACATCACCGTCC...   True       NaN   \n",
       "251263  ATGTCGGGCCCTCGCGCCGGCTTCTACCGGCAGGAGCTGAACAAGA...  False       NaN   \n",
       "297843  ATGGGAATGGCCTGCCTTACGATGACAGAAATGGAGGGAACATCCA...   True       NaN   \n",
       "326277  ATGGGGGCTGTAACAGCCAGGCGCTGCGTCGAGTGGCTGCTGGGCC...   True       NaN   \n",
       "50988   ATGTCAGAGAACGGCTCCTTCGCCAACTGCTGCGAGGCGGGCGGGT...   True       NaN   \n",
       "\n",
       "           Y_pKi     Y_KIBA  in_DAVIS  in_BindingDB_Kd  in_BindingDB_Ki  \\\n",
       "198528       NaN        NaN      True            False            False   \n",
       "17938   6.300943  12.800523     False            False             True   \n",
       "64374   4.999996        NaN     False            False             True   \n",
       "101579       NaN        NaN     False             True            False   \n",
       "104794  9.301117        NaN     False            False             True   \n",
       "...          ...        ...       ...              ...              ...   \n",
       "108235  7.931814        NaN     False            False             True   \n",
       "251263       NaN  11.100000     False            False            False   \n",
       "297843  8.935542        NaN     False            False             True   \n",
       "326277  7.853872        NaN     False            False             True   \n",
       "50988   9.732828        NaN     False            False             True   \n",
       "\n",
       "        in_Metz  in_KIBA  \n",
       "198528    False    False  \n",
       "17938     False     True  \n",
       "64374     False    False  \n",
       "101579    False    False  \n",
       "104794    False    False  \n",
       "...         ...      ...  \n",
       "108235    False    False  \n",
       "251263    False     True  \n",
       "297843    False    False  \n",
       "326277    False    False  \n",
       "50988     False    False  \n",
       "\n",
       "[100 rows x 18 columns]"
      ]
     },
     "execution_count": 2,
     "metadata": {},
     "output_type": "execute_result"
    }
   ],
   "source": [
    "import pandas as pd\n",
    "\n",
    "df = pd.read_csv(\"data/processed/dti.csv\")\n",
    "df = df.sample(100)\n",
    "df"
   ]
  },
  {
   "cell_type": "code",
   "execution_count": 3,
   "metadata": {},
   "outputs": [
    {
     "name": "stderr",
     "output_type": "stream",
     "text": [
      "2025-04-26 17:31:01,215 - embedding - INFO - Created H5 file with 100 unique Drug_IDs at /home/robsyc/Desktop/thesis/MB-VAE-DTI/external/temp/dti_smiles.hdf5\n",
      "2025-04-26 17:31:01,217 - embedding - INFO - Created H5 file with 84 unique Target_IDs at /home/robsyc/Desktop/thesis/MB-VAE-DTI/external/temp/dti_aa.hdf5\n",
      "2025-04-26 17:31:01,219 - embedding - INFO - Created H5 file with 84 unique Target_IDs at /home/robsyc/Desktop/thesis/MB-VAE-DTI/external/temp/dti_dna.hdf5\n"
     ]
    },
    {
     "data": {
      "text/plain": [
       "PosixPath('/home/robsyc/Desktop/thesis/MB-VAE-DTI/external/temp/dti_dna.hdf5')"
      ]
     },
     "execution_count": 3,
     "metadata": {},
     "output_type": "execute_result"
    }
   ],
   "source": [
    "from mb_vae_dti.processing.embedding import save_representations_to_h5\n",
    "\n",
    "save_representations_to_h5(\n",
    "    df,\n",
    "    \"Drug_SMILES\",\n",
    "    \"dti_smiles.hdf5\"\n",
    ")\n",
    "save_representations_to_h5(\n",
    "    df,\n",
    "    \"Target_AA\",\n",
    "    \"dti_aa.hdf5\"\n",
    ")\n",
    "save_representations_to_h5(\n",
    "    df,\n",
    "    \"Target_DNA\",\n",
    "    \"dti_dna.hdf5\"\n",
    ")\n",
    "# do same for pretrain_... data"
   ]
  },
  {
   "cell_type": "code",
   "execution_count": 4,
   "metadata": {},
   "outputs": [
    {
     "name": "stderr",
     "output_type": "stream",
     "text": [
      "2025-04-26 17:31:01,227 - embedding - INFO - Running embedding script with command: /home/robsyc/Desktop/thesis/MB-VAE-DTI/external/run_embeddings.sh MorganFP /home/robsyc/Desktop/thesis/MB-VAE-DTI/external/temp/dti_smiles.hdf5\n"
     ]
    },
    {
     "name": "stdout",
     "output_type": "stream",
     "text": [
      "Activating virtual environment at /home/robsyc/Desktop/thesis/MB-VAE-DTI/external/MorganFP/venv\n",
      "Checking for installation requirements...\n",
      "Installing from requirements.txt\n",
      "Running: python /home/robsyc/Desktop/thesis/MB-VAE-DTI/external/MorganFP/script.py --input \"/home/robsyc/Desktop/thesis/MB-VAE-DTI/external/temp/dti_smiles.hdf5\"\n",
      "Initializing Morgan fingerprint generator (Radius=2, Size=2048)...\n",
      "Generator initialized.\n",
      "--- Starting embedding generation for 'FP-Morgan' ---\n",
      "Processing HDF5 file: /home/robsyc/Desktop/thesis/MB-VAE-DTI/external/temp/dti_smiles.hdf5\n",
      "Using batch size: 512\n",
      "Processing first batch to determine embedding dimensions...\n",
      "Determined embedding shape: (2048,), dtype: float32\n",
      "Created HDF5 dataset 'embeddings/FP-Morgan' with shape (100, 2048)\n",
      "Processing remaining 0 items in 0 batches...\n",
      "Successfully added 'FP-Morgan' embeddings to /home/robsyc/Desktop/thesis/MB-VAE-DTI/external/temp/dti_smiles.hdf5\n",
      "--- Finished embedding generation for 'FP-Morgan' ---\n"
     ]
    },
    {
     "name": "stderr",
     "output_type": "stream",
     "text": [
      "Generating FP-Morgan embeddings: 0it [00:00, ?it/s]\n",
      "2025-04-26 17:31:02,056 - embedding - INFO - Running embedding script with command: /home/robsyc/Desktop/thesis/MB-VAE-DTI/external/run_embeddings.sh ESPF /home/robsyc/Desktop/thesis/MB-VAE-DTI/external/temp/dti_aa.hdf5\n"
     ]
    },
    {
     "name": "stdout",
     "output_type": "stream",
     "text": [
      "Embedding generation completed successfully\n",
      "Activating virtual environment at /home/robsyc/Desktop/thesis/MB-VAE-DTI/external/ESPF/venv\n",
      "Checking for installation requirements...\n",
      "Installing from requirements.txt\n",
      "Running: python /home/robsyc/Desktop/thesis/MB-VAE-DTI/external/ESPF/script.py --input \"/home/robsyc/Desktop/thesis/MB-VAE-DTI/external/temp/dti_aa.hdf5\"\n",
      "Loading ESPF BPE codes and subword map...\n",
      "ESPF resources loaded.\n",
      "--- Starting embedding generation for 'FP-ESP' ---\n",
      "Processing HDF5 file: /home/robsyc/Desktop/thesis/MB-VAE-DTI/external/temp/dti_aa.hdf5\n",
      "Using batch size: 512\n",
      "Processing first batch to determine embedding dimensions...\n"
     ]
    },
    {
     "name": "stderr",
     "output_type": "stream",
     "text": [
      "Generating FP-ESP embeddings: 0it [00:00, ?it/s]\n",
      "2025-04-26 17:31:03,454 - embedding - INFO - Running embedding script with command: /home/robsyc/Desktop/thesis/MB-VAE-DTI/external/run_embeddings.sh biomed-multi-view /home/robsyc/Desktop/thesis/MB-VAE-DTI/external/temp/dti_smiles.hdf5\n"
     ]
    },
    {
     "name": "stdout",
     "output_type": "stream",
     "text": [
      "Determined embedding shape: (4170,), dtype: float32\n",
      "Created HDF5 dataset 'embeddings/FP-ESP' with shape (84, 4170)\n",
      "Processing remaining 0 items in 0 batches...\n",
      "Successfully added 'FP-ESP' embeddings to /home/robsyc/Desktop/thesis/MB-VAE-DTI/external/temp/dti_aa.hdf5\n",
      "--- Finished embedding generation for 'FP-ESP' ---\n",
      "Embedding generation completed successfully\n",
      "Activating virtual environment at /home/robsyc/Desktop/thesis/MB-VAE-DTI/external/biomed-multi-view/venv\n",
      "Checking for installation requirements...\n",
      "Installing from requirements.txt\n",
      "Running: python /home/robsyc/Desktop/thesis/MB-VAE-DTI/external/biomed-multi-view/script.py --input \"/home/robsyc/Desktop/thesis/MB-VAE-DTI/external/temp/dti_smiles.hdf5\"\n"
     ]
    },
    {
     "name": "stderr",
     "output_type": "stream",
     "text": [
      "/home/robsyc/Desktop/thesis/MB-VAE-DTI/external/biomed-multi-view/venv/lib/python3.11/site-packages/torch/cuda/__init__.py:138: UserWarning: CUDA initialization: CUDA unknown error - this may be due to an incorrectly set up environment, e.g. changing env variable CUDA_VISIBLE_DEVICES after program start. Setting the available devices to be zero. (Triggered internally at ../c10/cuda/CUDAFunctions.cpp:108.)\n",
      "  return torch._C._cuda_getDeviceCount() > 0\n"
     ]
    },
    {
     "name": "stdout",
     "output_type": "stream",
     "text": [
      "Using device: cpu\n",
      "Loading pretrained Biomed-Multi-View model from: /home/robsyc/Desktop/thesis/MB-VAE-DTI/data/checkpoints/Biomed-smmv/biomed-smmv-base.pth...\n"
     ]
    },
    {
     "name": "stderr",
     "output_type": "stream",
     "text": [
      "/home/robsyc/Desktop/thesis/MB-VAE-DTI/external/biomed-multi-view/venv/lib/python3.11/site-packages/torchvision/models/_utils.py:208: UserWarning: The parameter 'pretrained' is deprecated since 0.13 and may be removed in the future, please use 'weights' instead.\n",
      "  warnings.warn(\n",
      "/home/robsyc/Desktop/thesis/MB-VAE-DTI/external/biomed-multi-view/venv/lib/python3.11/site-packages/torchvision/models/_utils.py:223: UserWarning: Arguments other than a weight enum or `None` for 'weights' are deprecated since 0.13 and may be removed in the future. The current behavior is equivalent to passing `weights=None`.\n",
      "  warnings.warn(msg)\n",
      "2025-04-26 17:31:08,004 - root - INFO - pop-os:139018462844096:0:0 - BioMed Multi-view embedding model\n",
      "2025-04-26 17:31:08,004 - root - INFO - pop-os:139018462844096:0:0 - dim_list [512, 512, 768] of Graph2dModel, ImageModel, TextModel\n",
      "2025-04-26 17:31:08,015 - root - INFO - pop-os:139018462844096:0:0 - Loading checkpoint from provided path /home/robsyc/Desktop/thesis/MB-VAE-DTI/data/checkpoints/Biomed-smmv/biomed-smmv-base.pth\n",
      "2025-04-26 17:31:08,168 - root - INFO - pop-os:139018462844096:0:0 - Loading pretrain checkpoint for SmallMoleculeMultiView Model - _IncompatibleKeys(missing_keys=['aggregator.projections.0.weight', 'aggregator.projections.0.bias', 'aggregator.projections.1.weight', 'aggregator.projections.1.bias', 'aggregator.projections.2.weight', 'aggregator.projections.2.bias', 'aggregator.w_before_mean.0.weight', 'aggregator.w_before_mean.0.bias', 'aggregator.w_before_mean.2.weight', 'aggregator.down_project.weight', 'aggregator.down_project.bias', 'aggregator.shared_task_head.0.weight', 'aggregator.shared_task_head.0.bias', 'aggregator.shared_task_head.1.weight', 'aggregator.shared_task_head.1.bias', 'aggregator.shared_task_head.4.weight', 'aggregator.shared_task_head.4.bias', 'aggregator.shared_task_head.5.weight', 'aggregator.shared_task_head.5.bias', 'aggregator.shared_task_head.8.weight', 'aggregator.shared_task_head.8.bias', 'aggregator.shared_task_head.9.weight', 'aggregator.shared_task_head.9.bias'], unexpected_keys=[])\n",
      "2025-04-26 17:31:08,183 - root - INFO - pop-os:139018462844096:0:0 - in train False setting deterministic_eval = True\n",
      "2025-04-26 17:31:08,185 - root - INFO - pop-os:139018462844096:0:0 - in train False setting deterministic_eval = True\n"
     ]
    },
    {
     "name": "stdout",
     "output_type": "stream",
     "text": [
      "Biomed-Multi-View sub-models loaded.\n",
      "Processing SMILES from HDF5 file: /home/robsyc/Desktop/thesis/MB-VAE-DTI/external/temp/dti_smiles.hdf5\n",
      "--- Starting embedding generation for 'EMB-BiomedGraph' ---\n",
      "Processing HDF5 file: /home/robsyc/Desktop/thesis/MB-VAE-DTI/external/temp/dti_smiles.hdf5\n",
      "Using batch size: 32\n",
      "Processing first batch to determine embedding dimensions...\n",
      "Determined embedding shape: (512,), dtype: float32\n",
      "Created HDF5 dataset 'embeddings/EMB-BiomedGraph' with shape (100, 512)\n",
      "Processing remaining 68 items in 3 batches...\n"
     ]
    },
    {
     "name": "stderr",
     "output_type": "stream",
     "text": [
      "Generating EMB-BiomedGraph embeddings: 100%|██████████| 68/68 [00:02<00:00, 23.90it/s]\n"
     ]
    },
    {
     "name": "stdout",
     "output_type": "stream",
     "text": [
      "Successfully added 'EMB-BiomedGraph' embeddings to /home/robsyc/Desktop/thesis/MB-VAE-DTI/external/temp/dti_smiles.hdf5\n",
      "--- Finished embedding generation for 'EMB-BiomedGraph' ---\n",
      "--- Starting embedding generation for 'EMB-BiomedImg' ---\n",
      "Processing HDF5 file: /home/robsyc/Desktop/thesis/MB-VAE-DTI/external/temp/dti_smiles.hdf5\n",
      "Using batch size: 32\n",
      "Processing first batch to determine embedding dimensions...\n",
      "Determined embedding shape: (512,), dtype: float32\n",
      "Created HDF5 dataset 'embeddings/EMB-BiomedImg' with shape (100, 512)\n",
      "Processing remaining 68 items in 3 batches...\n"
     ]
    },
    {
     "name": "stderr",
     "output_type": "stream",
     "text": [
      "Generating EMB-BiomedImg embeddings: 100%|██████████| 68/68 [00:01<00:00, 56.22it/s]\n"
     ]
    },
    {
     "name": "stdout",
     "output_type": "stream",
     "text": [
      "Successfully added 'EMB-BiomedImg' embeddings to /home/robsyc/Desktop/thesis/MB-VAE-DTI/external/temp/dti_smiles.hdf5\n",
      "--- Finished embedding generation for 'EMB-BiomedImg' ---\n",
      "--- Starting embedding generation for 'EMB-BiomedText' ---\n",
      "Processing HDF5 file: /home/robsyc/Desktop/thesis/MB-VAE-DTI/external/temp/dti_smiles.hdf5\n",
      "Using batch size: 32\n",
      "Processing first batch to determine embedding dimensions...\n",
      "Determined embedding shape: (768,), dtype: float32\n",
      "Created HDF5 dataset 'embeddings/EMB-BiomedText' with shape (100, 768)\n",
      "Processing remaining 68 items in 3 batches...\n"
     ]
    },
    {
     "name": "stderr",
     "output_type": "stream",
     "text": [
      "Generating EMB-BiomedText embeddings: 100%|██████████| 68/68 [00:01<00:00, 47.66it/s]\n"
     ]
    },
    {
     "name": "stdout",
     "output_type": "stream",
     "text": [
      "Successfully added 'EMB-BiomedText' embeddings to /home/robsyc/Desktop/thesis/MB-VAE-DTI/external/temp/dti_smiles.hdf5\n",
      "--- Finished embedding generation for 'EMB-BiomedText' ---\n",
      "Finished processing all views for Biomed-Multi-View.\n"
     ]
    },
    {
     "name": "stderr",
     "output_type": "stream",
     "text": [
      "2025-04-26 17:31:16,607 - embedding - INFO - Running embedding script with command: /home/robsyc/Desktop/thesis/MB-VAE-DTI/external/run_embeddings.sh ESM /home/robsyc/Desktop/thesis/MB-VAE-DTI/external/temp/dti_aa.hdf5\n"
     ]
    },
    {
     "name": "stdout",
     "output_type": "stream",
     "text": [
      "Embedding generation completed successfully\n",
      "Activating virtual environment at /home/robsyc/Desktop/thesis/MB-VAE-DTI/external/ESM/venv\n",
      "Checking for installation requirements...\n",
      "Installing from requirements.txt\n",
      "Running: python /home/robsyc/Desktop/thesis/MB-VAE-DTI/external/ESM/script.py --input \"/home/robsyc/Desktop/thesis/MB-VAE-DTI/external/temp/dti_aa.hdf5\"\n",
      "Using device: cpu\n",
      "Loading ESM model (esmc_600m)...\n"
     ]
    },
    {
     "name": "stderr",
     "output_type": "stream",
     "text": [
      "/home/robsyc/Desktop/thesis/MB-VAE-DTI/external/ESM/venv/lib/python3.12/site-packages/torch/cuda/__init__.py:129: UserWarning: CUDA initialization: CUDA unknown error - this may be due to an incorrectly set up environment, e.g. changing env variable CUDA_VISIBLE_DEVICES after program start. Setting the available devices to be zero. (Triggered internally at /pytorch/c10/cuda/CUDAFunctions.cpp:109.)\n",
      "  return torch._C._cuda_getDeviceCount() > 0\n",
      "Fetching 4 files: 100%|██████████| 4/4 [00:00<00:00, 94254.02it/s]\n"
     ]
    },
    {
     "name": "stdout",
     "output_type": "stream",
     "text": [
      "ESM model (esmc_600m) loaded.\n",
      "--- Starting embedding generation for 'EMB-ESM' ---\n",
      "Processing HDF5 file: /home/robsyc/Desktop/thesis/MB-VAE-DTI/external/temp/dti_aa.hdf5\n",
      "Using batch size: 16\n",
      "Processing first batch to determine embedding dimensions...\n"
     ]
    },
    {
     "name": "stderr",
     "output_type": "stream",
     "text": [
      "Asking to truncate to max_length but no maximum length is provided and the model has no predefined maximum length. Default to no truncation.\n"
     ]
    },
    {
     "name": "stdout",
     "output_type": "stream",
     "text": [
      "Determined embedding shape: (1152,), dtype: float32\n",
      "Created HDF5 dataset 'embeddings/EMB-ESM' with shape (84, 1152)\n",
      "Processing remaining 68 items in 5 batches...\n"
     ]
    },
    {
     "name": "stderr",
     "output_type": "stream",
     "text": [
      "Generating EMB-ESM embeddings: 100%|██████████| 68/68 [00:02<00:00, 23.01it/s]\n"
     ]
    },
    {
     "name": "stdout",
     "output_type": "stream",
     "text": [
      "Successfully added 'EMB-ESM' embeddings to /home/robsyc/Desktop/thesis/MB-VAE-DTI/external/temp/dti_aa.hdf5\n",
      "--- Finished embedding generation for 'EMB-ESM' ---\n"
     ]
    },
    {
     "name": "stderr",
     "output_type": "stream",
     "text": [
      "2025-04-26 17:31:27,572 - embedding - INFO - Running embedding script with command: /home/robsyc/Desktop/thesis/MB-VAE-DTI/external/run_embeddings.sh nucleotide-transformer /home/robsyc/Desktop/thesis/MB-VAE-DTI/external/temp/dti_dna.hdf5\n"
     ]
    },
    {
     "name": "stdout",
     "output_type": "stream",
     "text": [
      "Embedding generation completed successfully\n",
      "Activating virtual environment at /home/robsyc/Desktop/thesis/MB-VAE-DTI/external/nucleotide-transformer/venv\n",
      "Checking for installation requirements...\n",
      "Installing using setup.py\n",
      "Running: python /home/robsyc/Desktop/thesis/MB-VAE-DTI/external/nucleotide-transformer/script.py --input \"/home/robsyc/Desktop/thesis/MB-VAE-DTI/external/temp/dti_dna.hdf5\"\n",
      "Loading Nucleotide Transformer model (500M_multi_species_v2), padding to 16...\n",
      "Downloading model's hyperparameters json file...\n",
      "Downloaded model's hyperparameters.\n",
      "Downloading model's weights...\n",
      "Downloaded model's weights...\n",
      "Model loaded successfully\n",
      "Configured to extract embeddings from layer: 29\n",
      "Processing DNA sequences with Nucleotide Transformer (500M_multi_species_v2)\n",
      "--- Starting embedding generation for 'EMB-NT' ---\n",
      "Processing HDF5 file: /home/robsyc/Desktop/thesis/MB-VAE-DTI/external/temp/dti_dna.hdf5\n",
      "Using batch size: 16\n",
      "Processing first batch to determine embedding dimensions...\n"
     ]
    },
    {
     "name": "stderr",
     "output_type": "stream",
     "text": [
      "WARNING:2025-04-26 17:31:32,223:jax._src.xla_bridge:967: An NVIDIA GPU may be present on this machine, but a CUDA-enabled jaxlib is not installed. Falling back to cpu.\n"
     ]
    },
    {
     "name": "stdout",
     "output_type": "stream",
     "text": [
      "Determined embedding shape: (1024,), dtype: float32\n",
      "Created HDF5 dataset 'embeddings/EMB-NT' with shape (84, 1024)\n",
      "Processing remaining 68 items in 5 batches...\n"
     ]
    },
    {
     "name": "stderr",
     "output_type": "stream",
     "text": [
      "Generating EMB-NT embeddings: 100%|██████████| 68/68 [00:05<00:00, 11.87it/s]\n"
     ]
    },
    {
     "name": "stdout",
     "output_type": "stream",
     "text": [
      "Successfully added 'EMB-NT' embeddings to /home/robsyc/Desktop/thesis/MB-VAE-DTI/external/temp/dti_dna.hdf5\n",
      "--- Finished embedding generation for 'EMB-NT' ---\n",
      "Embedding generation completed successfully\n"
     ]
    }
   ],
   "source": [
    "from mb_vae_dti.processing.embedding import run_embedding_script\n",
    "\n",
    "run_embedding_script(\n",
    "    \"dti_smiles.hdf5\",\n",
    "    \"MorganFP\"            # 2048\n",
    ")\n",
    "run_embedding_script(\n",
    "    \"dti_aa.hdf5\",\n",
    "    \"ESPF\"                  # 4170\n",
    ")\n",
    "run_embedding_script(\n",
    "    \"dti_smiles.hdf5\",\n",
    "    \"biomed-multi-view\"   # 512, 512, 768\n",
    ")\n",
    "run_embedding_script(\n",
    "    \"dti_aa.hdf5\",\n",
    "    \"ESM\"                   # 1152\n",
    ")\n",
    "run_embedding_script(\n",
    "    \"dti_dna.hdf5\",\n",
    "    \"nucleotide-transformer\" # 1024\n",
    ")"
   ]
  },
  {
   "cell_type": "markdown",
   "metadata": {},
   "source": [
    "---\n",
    "---"
   ]
  },
  {
   "cell_type": "markdown",
   "metadata": {},
   "source": [
    "## Add split columns and create h5torch file"
   ]
  },
  {
   "cell_type": "code",
   "execution_count": 4,
   "metadata": {},
   "outputs": [
    {
     "name": "stderr",
     "output_type": "stream",
     "text": [
      "14:37:25 - INFO - Old pandas version detected. Patching DataFrame.map to DataFrame.applymap\n"
     ]
    },
    {
     "name": "stdout",
     "output_type": "stream",
     "text": [
      "Creating h5torch file from dataframe with 1000 rows...\n",
      "Found 955 unique drugs and 418 unique targets\n",
      "Creating central interaction matrix of shape (955, 418) with 1000 observed interactions\n",
      "Processing drug features...\n",
      "Processing target features...\n",
      "Created h5torch file at data/processed/DTI_small.h5torch\n"
     ]
    }
   ],
   "source": [
    "from mb_vae_dti.processing import add_split_cols, create_h5torch\n",
    "\n",
    "df_split = add_split_cols(df)\n",
    "create_h5torch(df_split, output_filename=\"DTI_small.h5torch\")"
   ]
  },
  {
   "cell_type": "code",
   "execution_count": 14,
   "metadata": {},
   "outputs": [
    {
     "name": "stdout",
     "output_type": "stream",
     "text": [
      "Using boolean mask for mapping (93 indices)\n",
      "Verified alignment: all unstructured data has 1000 elements\n"
     ]
    },
    {
     "data": {
      "text/plain": [
       "{'central': False,\n",
       " '0/Drug_ID': 'D020044',\n",
       " '0/Drug_InChIKey': 'WUTRVCAUFFQVGX-HNNXBMFYSA-N',\n",
       " '0/Drug_SMILES': 'CC(C)CN(C(=O)c1ccccc1C(C)C)[C@H]1CCNC1',\n",
       " '1/Target_AA': 'MSKSKCSVGLMSSVVAPAKEPNAVGPKEVELILVKEQNGVQLTSSTLTNPRQSPVEAQDRETWGKKIDFLLSVIGFAVDLANVWRFPYLCYKNGGGAFLVPYLLFMVIAGMPLFYMELALGQFNREGAAGVWKICPILKGVGFTVILISLYVGFFYNVIIAWALHYLFSSFTTELPWIHCNNSWNSPNCSDAHPGDSSGDSSGLNDTFGTTPAAEYFERGVLHLHQSHGIDDLGPPRWQLTACLVLVIVLLYFSLWKGVKTSGKVVWITATMPYVVLTALLLRGVTLPGAIDGIRAYLSVDFYRLCEASVWIDAATQVCFSLGVGFGVLIAFSSYNKFTNNCYRDAIVTTSINSLTSFSSGFVVFSFLGYMAQKHSVPIGDVAKDGPGLIFIIYPEAIATLPLSSAWAVVFFIMLLTLGIDSAMGGMESVITGLIDEFQLLHRHRELFTLFIVLATFLLSLFCVTNGGIYVFTLLDHFAAGTSILFGVLIEAIGVAWFYGVGQFSDDIQQMTGQRPSLYWRLCWKLVSPCFLLFVVVVSIVTFRPPHYGAYIFPDWANALGWVIATSSMAMVPIYAAYKFCSLPGSFREKLAYAIAPEKDRELVDRGEVRQFTLRHWLKV',\n",
       " '1/Target_DNA': 'ATGAGTAAGAGCAAATGCTCCGTGGGACTCATGTCTTCCGTGGTGGCCCCGGCTAAGGAGCCCAATGCCGTGGGCCCGAAGGAGGTGGAGCTCATCCTTGTCAAGGAGCAGAACGGAGTGCAGCTCACCAGCTCCACCCTCACCAACCCGCGGCAGAGCCCCGTGGAGGCCCAGGATCGGGAGACCTGGGGCAAGAAGATCGACTTTCTCCTGTCCGTCATTGGCTTTGCTGTGGACCTGGCCAACGTCTGGCGGTTCCCCTACCTGTGCTACAAAAATGGTGGCGGTGCCTTCCTGGTCCCCTACCTGCTCTTCATGGTCATTGCTGGGATGCCACTTTTCTACATGGAGCTGGCCCTCGGCCAGTTCAACAGGGAAGGGGCCGCTGGTGTCTGGAAGATCTGCCCCATACTGAAAGGTGTGGGCTTCACGGTCATCCTCATCTCACTGTATGTCGGCTTCTTCTACAACGTCATCATCGCCTGGGCGCTGCACTATCTCTTCTCCTCCTTCACCACGGAGCTCCCCTGGATCCACTGCAACAACTCCTGGAACAGCCCCAACTGCTCGGATGCCCATCCTGGTGACTCCAGTGGAGACAGCTCGGGCCTCAACGACACTTTTGGGACCACACCTGCTGCCGAGTACTTTGAACGTGGCGTGCTGCACCTCCACCAGAGCCATGGCATCGACGACCTGGGGCCTCCGCGGTGGCAGCTCACAGCCTGCCTGGTGCTGGTCATCGTGCTGCTCTACTTCAGCCTCTGGAAGGGCGTGAAGACCTCAGGGAAGGTGGTATGGATCACAGCCACCATGCCATACGTGGTCCTCACTGCCCTGCTCCTGCGTGGGGTCACCCTCCCTGGAGCCATAGACGGCATCAGAGCATACCTGAGCGTTGACTTCTACCGGCTCTGCGAGGCGTCTGTTTGGATTGACGCGGCCACCCAGGTGTGCTTCTCCCTGGGCGTGGGGTTCGGGGTGCTGATCGCCTTCTCCAGCTACAACAAGTTCACCAACAACTGCTACAGGGACGCGATTGTCACCACCTCCATCAACTCCCTGACGAGCTTCTCCTCCGGCTTCGTCGTCTTCTCCTTCCTGGGGTACATGGCACAGAAGCACAGTGTGCCCATCGGGGACGTGGCCAAGGACGGGCCAGGGCTGATCTTCATCATCTACCCGGAAGCCATCGCCACGCTCCCTCTGTCCTCAGCCTGGGCCGTGGTCTTCTTCATCATGCTGCTCACCCTGGGTATCGACAGCGCCATGGGTGGTATGGAGTCAGTGATCACCGGGCTCATCGATGAGTTCCAGCTGCTGCACAGACACCGTGAGCTCTTCACGCTCTTCATCGTCCTGGCGACCTTCCTCCTGTCCCTGTTCTGCGTCACCAACGGTGGCATCTACGTCTTCACGCTCCTGGACCATTTTGCAGCCGGCACGTCCATCCTCTTTGGAGTGCTCATCGAAGCCATCGGAGTGGCCTGGTTCTATGGTGTTGGGCAGTTCAGCGACGACATCCAGCAGATGACCGGGCAGCGGCCCAGCCTGTACTGGCGGCTGTGCTGGAAGCTGGTCAGCCCCTGCTTTCTCCTGTTCGTGGTCGTGGTCAGCATTGTGACCTTCAGACCCCCCCACTACGGAGCCTACATCTTCCCCGACTGGGCCAACGCGCTGGGCTGGGTCATCGCCACATCCTCCATGGCCATGGTGCCCATCTATGCGGCCTACAAGTTCTGCAGCCTGCCTGGGTCCTTTCGAGAGAAACTGGCCTACGCCATTGCACCCGAGAAGGACCGTGAGCTGGTGGACAGAGGGGAGGTGCGCCAGTTCACGCTCCGCCACTGGCTCAAGGTG',\n",
       " '1/Target_Gene_name': 'SLC6A3',\n",
       " '1/Target_ID': 'T000469',\n",
       " '1/Target_RefSeq_ID': 'NM_001044',\n",
       " '1/Target_UniProt_ID': 'Q01959',\n",
       " 'unstructured/Y_pKd': nan,\n",
       " 'unstructured/Y_pKi': 5.4448934,\n",
       " 'unstructured/Y_KIBA': nan}"
      ]
     },
     "execution_count": 14,
     "metadata": {},
     "output_type": "execute_result"
    }
   ],
   "source": [
    "from mb_vae_dti.processing import load_h5torch_DTI\n",
    "\n",
    "test_davis_metz = load_h5torch_DTI(\n",
    "    filename=\"DTI_small.h5torch\",\n",
    "    setting=\"split_cold\",\n",
    "    split=\"test\",\n",
    "    datasets=[\"in_DAVIS\", \"in_Metz\", \"in_BindingDB_Kd\", \"in_BindingDB_Ki\"]\n",
    ")\n",
    "test_davis_metz[20]"
   ]
  },
  {
   "cell_type": "code",
   "execution_count": 15,
   "metadata": {},
   "outputs": [
    {
     "data": {
      "text/html": [
       "<div>\n",
       "<style scoped>\n",
       "    .dataframe tbody tr th:only-of-type {\n",
       "        vertical-align: middle;\n",
       "    }\n",
       "\n",
       "    .dataframe tbody tr th {\n",
       "        vertical-align: top;\n",
       "    }\n",
       "\n",
       "    .dataframe thead th {\n",
       "        text-align: right;\n",
       "    }\n",
       "</style>\n",
       "<table border=\"1\" class=\"dataframe\">\n",
       "  <thead>\n",
       "    <tr style=\"text-align: right;\">\n",
       "      <th></th>\n",
       "      <th>Drug_ID</th>\n",
       "      <th>Drug_InChIKey</th>\n",
       "      <th>Drug_SMILES</th>\n",
       "      <th>Target_ID</th>\n",
       "      <th>Target_UniProt_ID</th>\n",
       "      <th>Target_Gene_name</th>\n",
       "      <th>Target_RefSeq_ID</th>\n",
       "      <th>Target_AA</th>\n",
       "      <th>Target_DNA</th>\n",
       "      <th>Y</th>\n",
       "      <th>Y_pKd</th>\n",
       "      <th>Y_pKi</th>\n",
       "      <th>Y_KIBA</th>\n",
       "      <th>in_DAVIS</th>\n",
       "      <th>in_BindingDB_Kd</th>\n",
       "      <th>in_BindingDB_Ki</th>\n",
       "      <th>in_Metz</th>\n",
       "      <th>in_KIBA</th>\n",
       "      <th>split_rand</th>\n",
       "      <th>split_cold</th>\n",
       "    </tr>\n",
       "  </thead>\n",
       "  <tbody>\n",
       "    <tr>\n",
       "      <th>58456</th>\n",
       "      <td>D020044</td>\n",
       "      <td>WUTRVCAUFFQVGX-HNNXBMFYSA-N</td>\n",
       "      <td>CC(C)CN(C(=O)c1ccccc1C(C)C)[C@H]1CCNC1</td>\n",
       "      <td>T000469</td>\n",
       "      <td>Q01959</td>\n",
       "      <td>SLC6A3</td>\n",
       "      <td>NM_001044</td>\n",
       "      <td>MSKSKCSVGLMSSVVAPAKEPNAVGPKEVELILVKEQNGVQLTSST...</td>\n",
       "      <td>ATGAGTAAGAGCAAATGCTCCGTGGGACTCATGTCTTCCGTGGTGG...</td>\n",
       "      <td>False</td>\n",
       "      <td>NaN</td>\n",
       "      <td>5.444893</td>\n",
       "      <td>NaN</td>\n",
       "      <td>False</td>\n",
       "      <td>False</td>\n",
       "      <td>True</td>\n",
       "      <td>False</td>\n",
       "      <td>False</td>\n",
       "      <td>train</td>\n",
       "      <td>test</td>\n",
       "    </tr>\n",
       "  </tbody>\n",
       "</table>\n",
       "</div>"
      ],
      "text/plain": [
       "       Drug_ID                Drug_InChIKey   \n",
       "58456  D020044  WUTRVCAUFFQVGX-HNNXBMFYSA-N  \\\n",
       "\n",
       "                                  Drug_SMILES Target_ID Target_UniProt_ID   \n",
       "58456  CC(C)CN(C(=O)c1ccccc1C(C)C)[C@H]1CCNC1   T000469            Q01959  \\\n",
       "\n",
       "      Target_Gene_name Target_RefSeq_ID   \n",
       "58456           SLC6A3        NM_001044  \\\n",
       "\n",
       "                                               Target_AA   \n",
       "58456  MSKSKCSVGLMSSVVAPAKEPNAVGPKEVELILVKEQNGVQLTSST...  \\\n",
       "\n",
       "                                              Target_DNA      Y  Y_pKd   \n",
       "58456  ATGAGTAAGAGCAAATGCTCCGTGGGACTCATGTCTTCCGTGGTGG...  False    NaN  \\\n",
       "\n",
       "          Y_pKi  Y_KIBA  in_DAVIS  in_BindingDB_Kd  in_BindingDB_Ki  in_Metz   \n",
       "58456  5.444893     NaN     False            False             True    False  \\\n",
       "\n",
       "       in_KIBA split_rand split_cold  \n",
       "58456    False      train       test  "
      ]
     },
     "execution_count": 15,
     "metadata": {},
     "output_type": "execute_result"
    }
   ],
   "source": [
    "# get row where Drug_ID is ... and Target_ID is ...\n",
    "drug_id = 'D020044'\n",
    "target_id = 'T000469'\n",
    "\n",
    "df_split[(df_split[\"Drug_ID\"] == drug_id) & (df_split[\"Target_ID\"] == target_id)]"
   ]
  },
  {
   "cell_type": "markdown",
   "metadata": {},
   "source": [
    "## Adding embeddings to the h5torch file"
   ]
  },
  {
   "cell_type": "code",
   "execution_count": 7,
   "metadata": {},
   "outputs": [
    {
     "name": "stdout",
     "output_type": "stream",
     "text": [
      "Using boolean mask for mapping (22 indices)\n",
      "Verified alignment: all unstructured data has 1000 elements\n"
     ]
    },
    {
     "data": {
      "text/plain": [
       "{'central': True,\n",
       " '0/Drug_FP': array([0., 1., 0., ..., 0., 0., 0.], dtype=float32),\n",
       " '0/Drug_ID': 'D005704',\n",
       " '0/Drug_InChIKey': 'BPNUQXPIQBZCMR-IBGZPJMESA-N',\n",
       " '0/Drug_SMILES': 'Cc1n[nH]c2ccc(-c3cncc(OC[C@@H](N)Cc4ccccc4)c3)cc12',\n",
       " '0/Drug_emb_graph': array([ 1.90964546e-02,  3.65307368e-02, -7.67227039e-02, -2.17817098e-01,\n",
       "         2.92698480e-02, -7.65806576e-03,  6.17058277e-02, -3.02248616e-02,\n",
       "        -3.07081044e-01, -1.00169100e-01, -1.62992515e-02, -4.32518095e-01,\n",
       "         7.75575042e-02,  2.66861264e-02, -2.08349586e-01,  6.72742501e-02,\n",
       "         4.46739830e-02,  1.43983409e-01,  3.29942629e-02,  8.80348533e-02,\n",
       "        -1.41768217e-01, -3.20785753e-02,  2.06791297e-01,  2.04960611e-02,\n",
       "         1.23171246e+00, -1.98846664e-02,  2.10213590e+00, -6.31648824e-02,\n",
       "         3.30971442e-02,  2.19252086e+00, -5.95130119e-03, -2.86935985e-01,\n",
       "        -4.31635641e-02,  4.11687195e-02,  1.21839553e-01, -4.30982709e-01,\n",
       "        -4.06590328e-02,  6.95760772e-02, -9.02318507e-02,  2.58355644e-02,\n",
       "         3.01032681e-02,  5.27303666e-02,  9.71199665e-03,  2.64418144e-02,\n",
       "        -7.87056237e-02, -2.20411718e-02, -4.04955409e-02,  2.35366039e-02,\n",
       "        -9.54168267e-04, -9.26480293e-02, -2.59698927e-01,  3.58273029e+00,\n",
       "         5.45788184e-02,  4.47742417e-02, -1.75656870e-01,  4.55915600e-01,\n",
       "         9.85531788e-03,  1.36207089e-01, -1.91888079e-01, -8.59403424e-03,\n",
       "         2.01311577e-02,  1.79096088e-01, -1.28810974e-02, -1.09704360e-02,\n",
       "        -1.10981464e-01, -7.91398287e-02,  4.30596024e-01,  3.89441624e-02,\n",
       "        -3.88762891e-01,  3.96746621e-02,  1.06462821e-01,  2.37602722e-02,\n",
       "         2.82541011e-02,  1.46485999e-01, -7.80009404e-02, -1.05674654e-01,\n",
       "        -5.65596968e-02,  4.38454151e-02,  8.20605516e-01,  6.03498928e-02,\n",
       "         3.69815677e-02,  2.13150140e-02,  1.76635571e-02, -5.97062297e-02,\n",
       "         1.82680003e-02,  1.44638456e-02,  9.04777460e-03,  2.58498024e-02,\n",
       "         4.14702035e-02, -6.60860687e-02,  3.87867801e-02, -3.61774936e-02,\n",
       "        -1.07471257e-01, -7.22565502e-03,  2.00726651e-02, -5.95583171e-02,\n",
       "         1.94472843e-03,  4.17575017e-02,  8.54805633e-02,  4.81118172e-01,\n",
       "         2.83715427e-01, -3.70696783e-01, -1.67429317e-02,  7.07818121e-02,\n",
       "         1.23628117e-02, -4.58550639e-02,  1.22823492e-01, -1.61109209e-01,\n",
       "         4.10956740e-02, -1.19274661e-01,  5.38383722e-02, -1.72011435e-01,\n",
       "        -1.30401492e-01,  5.55505008e-02,  8.52010027e-02, -4.72853184e-02,\n",
       "        -5.37256785e-02,  6.73362762e-02,  4.49356958e-02, -4.08472419e-01,\n",
       "         2.47506946e-01, -7.51793683e-02, -2.02521726e-01, -9.01841223e-02,\n",
       "         6.02631830e-03, -6.45806734e-03, -1.64690569e-01,  2.58881062e-01,\n",
       "        -8.21869522e-02, -1.42838461e-02, -4.73661989e-01, -8.06322172e-02,\n",
       "        -4.78983158e-03,  5.05978353e-02,  1.38887102e-02, -5.39606065e-02,\n",
       "         4.11111452e-02, -6.35718629e-02, -1.02140410e-02, -1.11732960e-01,\n",
       "        -1.55168295e-01, -2.13761944e-02, -8.79132599e-02,  2.25446016e-01,\n",
       "        -4.77600098e-02, -1.12617016e-02, -3.60736139e-02, -1.61663666e-01,\n",
       "        -4.60303901e-03,  7.45455623e-02, -1.19756110e-01,  3.54642645e-02,\n",
       "        -5.19327819e-01,  1.46120163e-02,  8.44203215e-03,  1.22583404e-01,\n",
       "         1.15892887e-01,  1.06360741e-01, -1.09262168e-01, -6.40207753e-02,\n",
       "         7.25653693e-02,  3.54411975e-02,  1.83133125e-01,  1.86266378e-02,\n",
       "        -5.43041192e-02,  2.26803683e-02, -4.32133414e-02,  4.78250440e-03,\n",
       "         3.23541947e-02, -5.42480767e-01, -5.31618558e-02,  7.00053930e-01,\n",
       "        -5.82916439e-02, -1.51072383e-01,  5.24460785e-02, -2.63461590e-01,\n",
       "        -2.83902675e-01,  1.77307818e-02,  5.50725162e-02, -3.30245160e-02,\n",
       "        -5.14054224e-02,  2.10068468e-02,  3.38214487e-02,  5.54858223e-02,\n",
       "         3.46991830e-02,  1.17082736e-02, -1.80937663e-01,  1.39934253e-02,\n",
       "        -4.95120361e-02,  4.70534638e-02,  3.08724344e-01,  8.69397819e-03,\n",
       "         5.17259166e-02,  2.56753154e-02, -4.70799729e-02, -2.26530246e-02,\n",
       "         1.76244359e-02,  3.41127738e-02,  2.85127629e-02,  1.93044865e+00,\n",
       "         6.00311607e-02,  4.73541841e-02,  6.85969070e-02, -8.04708246e-03,\n",
       "        -4.13355343e-02,  1.37007713e-01, -6.79468811e-02, -5.10006174e-02,\n",
       "        -1.18244745e-01, -3.93220969e-02,  9.83636141e-01,  2.55883187e-02,\n",
       "         1.99416101e+00, -8.50998424e-03,  3.78824845e-02,  3.42354435e-03,\n",
       "         6.12516627e-02,  1.16529249e-01,  6.13218993e-02,  7.61560956e-03,\n",
       "        -2.43609741e-01, -3.37482058e-02, -4.63806540e-02, -3.96975204e-02,\n",
       "        -8.87976140e-02,  1.92156717e-01,  2.37141121e-02,  7.92636871e-01,\n",
       "        -1.35336407e-02, -1.25001535e-01, -1.15190484e-02,  1.59380126e+00,\n",
       "        -7.74372742e-02, -3.44998576e-02,  2.51516134e-01, -3.45451310e-02,\n",
       "        -9.48798284e-02,  1.04544424e-02,  2.44134609e-02,  5.80460615e-02,\n",
       "         3.07007842e-02,  9.34261084e-03,  1.75788272e-02, -7.38786831e-02,\n",
       "        -8.41477141e-02, -3.13723423e-02,  9.25511494e-03, -8.30980390e-02,\n",
       "         4.54932421e-01,  2.51602437e-02, -9.32537988e-02,  2.76152287e-02,\n",
       "        -1.15205690e-01,  2.83359531e-02,  1.66842174e-02, -3.18791904e-02,\n",
       "         4.61251140e-02,  3.14442404e-02,  4.09758426e-02, -4.20489945e-02,\n",
       "        -8.26056302e-02,  9.72262863e-03,  2.99204588e-02, -1.31996483e-01,\n",
       "        -4.27322462e-02, -9.80298743e-02, -8.39063600e-02, -6.22565523e-02,\n",
       "        -1.96716711e-01, -1.57733783e-01, -7.30230436e-02, -1.60182472e-02,\n",
       "         1.92671180e-01,  5.59796719e-03,  2.83684116e-02,  5.23269884e-02,\n",
       "         3.39707993e-02, -6.92152902e-02,  5.45455553e-02,  6.31707832e-02,\n",
       "         4.55592930e-01, -1.41931266e-01,  5.00232279e-02,  4.63819355e-02,\n",
       "        -6.58279285e-02, -2.27484122e-01, -1.14699200e-01,  8.92421976e-02,\n",
       "        -7.41053820e-02,  2.31992856e-01, -5.94453774e-02, -2.57866737e-02,\n",
       "        -3.45809460e-02, -5.89005910e-02, -1.31913856e-01, -3.89868170e-02,\n",
       "        -2.34279796e-01,  2.31628139e-02,  2.39953306e-02, -7.25697130e-02,\n",
       "        -6.75163940e-02, -9.46440827e-03, -8.69716704e-02, -1.22235015e-01,\n",
       "         2.39328742e-02, -4.96611819e-02,  3.70759554e-02,  3.27459425e-02,\n",
       "        -1.53611451e-02,  8.62197056e-02,  5.14542982e-02, -4.06532250e-02,\n",
       "         8.33226927e-03,  1.91975638e-01, -1.03728138e-01, -1.62921414e-01,\n",
       "         7.49955773e-02,  6.08738847e-02, -2.72635259e-02,  7.55705178e-01,\n",
       "         3.50133739e-02,  3.16355415e-02, -6.95927860e-03,  3.71455327e-02,\n",
       "        -7.96897635e-02,  1.86418295e-02, -1.14259511e-01, -9.02779028e-02,\n",
       "        -1.99233070e-02,  2.00133801e-01,  7.48093307e-01, -5.10033853e-02,\n",
       "        -6.30834848e-02, -1.03010163e-02, -3.50318886e-02, -1.70645893e-01,\n",
       "         7.47769699e-03,  2.70964135e-03, -4.62991446e-02, -4.33378853e-03,\n",
       "        -4.02165651e-02, -1.51678994e-02,  5.46969175e-02,  2.11614132e-01,\n",
       "         1.09146142e+00, -1.75526187e-01, -3.27495933e-01,  1.12616718e-02,\n",
       "         1.30163925e-03,  2.53724102e-02,  1.49381745e+00,  1.08027868e-01,\n",
       "         3.53163257e-02, -1.36722267e-01, -4.72576655e-02,  1.40796034e-02,\n",
       "        -2.20379047e-02,  7.11971745e-02,  3.01557723e-02, -4.16992716e-02,\n",
       "         1.79157853e-02, -2.37296335e-02, -2.78502345e-01, -1.02023318e-01,\n",
       "         4.17717762e-04, -4.84962091e-02, -8.56167171e-03, -1.14093184e-01,\n",
       "        -2.07690716e-01,  1.19033465e-02, -2.10565791e-01,  7.46164247e-02,\n",
       "        -1.36716086e-02, -1.29937798e-01, -8.55094269e-02, -7.60385618e-02,\n",
       "        -2.83225812e-02,  1.32644579e-01, -9.23799947e-02, -1.21208183e-01,\n",
       "        -5.42675443e-02, -1.31483391e-01, -1.07943197e-03,  6.78911582e-02,\n",
       "         4.45984565e-02, -1.17998132e-02, -5.72528578e-02,  8.48787069e-01,\n",
       "        -1.66194350e-01, -8.99198726e-02,  6.57389462e-02,  3.75079326e-02,\n",
       "         2.30741411e-01,  1.17505884e+00,  6.96474791e-01,  3.72510366e-02,\n",
       "         2.81739067e-02,  3.56213838e-01, -1.05277352e-01,  1.78294312e-02,\n",
       "        -1.58653885e-01, -3.18253577e-01, -2.57046148e-02, -7.26294704e-03,\n",
       "        -7.38505274e-02,  8.25548451e-03, -9.18113515e-02,  2.18010191e-02,\n",
       "         7.87531212e-02,  4.67880785e-01, -1.06559563e-02, -2.23065048e-01,\n",
       "         1.80280104e-01,  5.50771207e-02,  4.41391058e-02, -3.10932621e-02,\n",
       "        -7.57333413e-02, -1.00896865e-01, -5.60604855e-02, -6.33929530e-03,\n",
       "        -1.81314990e-01, -3.33017930e-02,  2.68560629e-02, -1.30362436e-01,\n",
       "         2.80731656e-02, -7.37142712e-02,  3.12957317e-01, -8.52550492e-02,\n",
       "        -1.35261580e-01, -9.92126316e-02,  4.42974567e-02,  3.49610038e-02,\n",
       "        -4.58640456e-02,  2.65068635e-02,  2.48169124e-01, -2.80338023e-02,\n",
       "        -2.61448115e-01,  8.31040382e-01, -5.09415083e-02, -1.19697973e-02,\n",
       "        -6.33646473e-02, -6.20443672e-02, -4.54190910e-01, -6.98707029e-02,\n",
       "        -2.47046426e-02,  1.59466173e-02,  4.80301566e-02, -3.90052721e-02,\n",
       "        -6.61547035e-02,  8.05727090e-04,  5.50552271e-02,  1.07340598e+00,\n",
       "         4.09408659e-02,  7.13008344e-02,  1.52268428e-02, -5.32711819e-02,\n",
       "         7.59693934e-03, -9.18062180e-02, -4.45640460e-02,  4.81030822e-01,\n",
       "         3.75221521e-02,  6.24629147e-02,  9.98006389e-02,  7.16793165e-02,\n",
       "        -8.15355480e-02, -7.99180120e-02,  1.65530562e-01,  6.98446259e-02,\n",
       "         1.35096889e-02, -1.04980625e-01, -3.54868732e-02,  1.94772463e-02,\n",
       "        -6.48086369e-02,  4.51947823e-02, -2.51552705e-02,  6.78431168e-02,\n",
       "         7.77355256e-03, -8.68179426e-02, -1.31141439e-01, -5.28671853e-02,\n",
       "         1.94687620e-02,  2.37712786e-01, -8.77288282e-02,  9.60581657e-03,\n",
       "         1.38455719e-01, -9.86884385e-02,  1.16353527e-01, -1.84033647e-01,\n",
       "         2.61750072e-01,  7.08053261e-02, -3.70025709e-02,  6.14070194e-03,\n",
       "         4.56884988e-02,  3.71534936e-02, -3.36986557e-02, -8.79450422e-03,\n",
       "        -8.92668292e-02, -2.85201576e-02, -1.22780204e-01, -6.92556277e-02,\n",
       "        -6.60552830e-02, -1.61596745e-01, -4.83425381e-03, -9.73937884e-02,\n",
       "         4.37658541e-02,  2.49406379e-02,  8.48896921e-01, -6.68886900e-02,\n",
       "        -5.45793260e-03, -4.17967513e-02,  1.34293418e-02, -7.25496113e-02],\n",
       "       dtype=float32),\n",
       " '1/Target_AA': 'MPHPRRYHSSERGSRGSYREHYRSRKHKRRRSRSWSSSSDRTRRRRREDSYHVRSRSSYDDRSSDRRVYDRRYCGSYRRNDYSRDRGDAYYDTDYRHSYEYQRENSSYRSQRSSRRKHRRRRRRSRTFSRSSSQHSSRRAKSVEDDAEGHLIYHVGDWLQERYEIVSTLGEGTFGRVVQCVDHRRGGARVALKIIKNVEKYKEAARLEINVLEKINEKDPDNKNLCVQMFDWFDYHGHMCISFELLGLSTFDFLKDNNYLPYPIHQVRHMAFQLCQAVKFLHDNKLTHTDLKPENILFVNSDYELTYNLEKKRDERSVKSTAVRVVDFGSATFDHEHHSTIVSTRHYRAPEVILELGWSQPCDVWSIGCIIFEYYVGFTLFQTHDNREHLAMMERILGPIPSRMIRKTRKQKYFYRGRLDWDENTSAGRYVRENCKPLRRYLTSEAEEHHQLFDLIESMLEYEPAKRLTLGEALQHPFFARLRAEPPNKLWDSSRDISR',\n",
       " '1/Target_DNA': 'ATGCCGCATCCTCGAAGGTACCACTCCTCAGAGCGAGGCAGCCGGGGGAGTTACCGTGAACACTATCGGAGCCGAAAGCATAAGCGACGAAGAAGTCGCTCCTGGTCAAGTAGTAGTGACCGGACACGACGGCGTCGGCGAGAGGACAGCTACCATGTCCGTTCTCGAAGCAGTTATGATGATCGTTCGTCCGACCGGAGGGTGTATGACCGGCGATACTGTGGCAGCTACAGACGCAACGATTATAGCCGGGATCGGGGAGATGCCTACTATGACACAGACTATCGGCATTCCTATGAATATCAGCGGGAGAACAGCAGTTACCGCAGCCAGCGCAGCAGCCGGAGGAAGCACAGACGGCGGAGGAGGCGCAGCCGGACATTTAGCCGCTCATCTTCGCAGCACAGCAGCCGGAGAGCCAAGAGTGTAGAGGACGACGCTGAGGGCCACCTCATCTACCACGTCGGGGACTGGCTACAAGAGCGATATGAAATCGTTAGCACCTTAGGAGAGGGGACCTTCGGCCGAGTTGTACAATGTGTTGACCATCGCAGGGGTGGGGCTCGAGTTGCCCTGAAGATCATTAAGAATGTGGAGAAGTACAAGGAAGCAGCTCGACTTGAGATCAACGTGCTAGAGAAAATCAATGAGAAAGACCCTGACAACAAGAACCTCTGTGTCCAGATGTTTGACTGGTTTGACTACCATGGCCACATGTGTATCTCCTTTGAGCTTCTGGGCCTTAGCACCTTCGATTTCCTCAAAGACAACAACTACCTGCCCTACCCCATCCACCAAGTGCGCCACATGGCCTTCCAGCTGTGCCAGGCTGTCAAGTTCCTCCATGATAACAAGCTGACACATACAGACCTCAAGCCTGAAAATATTCTGTTTGTGAATTCAGACTATGAGCTCACCTACAACCTAGAGAAGAAGCGAGATGAGCGCAGTGTGAAGAGCACAGCTGTGCGGGTGGTAGACTTTGGCAGTGCCACCTTTGACCATGAGCACCATAGCACCATTGTCTCCACTCGCCATTACCGAGCACCAGAAGTCATCCTTGAGTTGGGCTGGTCACAGCCTTGTGATGTGTGGAGTATAGGCTGCATCATCTTTGAATACTATGTGGGATTCACCCTCTTCCAGACCCATGACAACAGAGAGCATCTAGCCATGATGGAAAGGATCTTGGGTCCTATCCCTTCCCGGATGATCCGAAAGACAAGAAAGCAGAAATATTTTTACCGGGGTCGCCTGGATTGGGATGAGAACACATCAGCTGGGCGCTATGTTCGTGAGAACTGCAAACCGCTGCGGCGGTATCTGACCTCAGAGGCAGAGGAACACCACCAGCTCTTCGATCTGATTGAAAGCATGCTAGAGTATGAACCAGCTAAGCGGCTGACCTTGGGTGAAGCCCTTCAGCATCCTTTCTTCGCCCGCCTTCGGGCTGAGCCGCCCAACAAGTTGTGGGACTCCAGTCGGGATATCAGTCGG',\n",
       " '1/Target_FP': array([0., 1., 0., ..., 0., 0., 0.], dtype=float32),\n",
       " '1/Target_Gene_name': 'CLK2',\n",
       " '1/Target_ID': 'T000051',\n",
       " '1/Target_RefSeq_ID': 'NM_001294338',\n",
       " '1/Target_UniProt_ID': 'P49760',\n",
       " 'unstructured/Y_pKd': 9.21467,\n",
       " 'unstructured/Y_pKi': nan,\n",
       " 'unstructured/Y_KIBA': nan}"
      ]
     },
     "execution_count": 7,
     "metadata": {},
     "output_type": "execute_result"
    }
   ],
   "source": [
    "from mb_vae_dti.processing import load_h5torch_DTI\n",
    "\n",
    "test_davis_metz = load_h5torch_DTI(\n",
    "    filename=\"DTI_small.h5torch\",\n",
    "    setting=\"split_cold\",\n",
    "    split=\"test\",\n",
    "    datasets=[\"in_DAVIS\", \"in_Metz\", \"in_BindingDB_Kd\"]\n",
    ")\n",
    "test_davis_metz[20]"
   ]
  },
  {
   "cell_type": "code",
   "execution_count": 6,
   "metadata": {},
   "outputs": [
    {
     "name": "stderr",
     "output_type": "stream",
     "text": [
      "2025-04-19 14:39:47,131 - embedding - INFO - Retrieved 955 sequences from Drug_SMILES\n",
      "2025-04-19 14:39:47,131 - embedding - INFO - Generating embeddings using rdMorganFP...\n",
      "2025-04-19 14:39:47,132 - embedding - INFO - Wrote 955 sequences to external/temp/rdmorganfp_input_1745066387.txt\n",
      "2025-04-19 14:39:47,133 - embedding - INFO - Running embedding command: /home/robsyc/Desktop/thesis/MB-VAE-DTI/external/run_embeddings.sh rdMorganFP /home/robsyc/Desktop/thesis/MB-VAE-DTI/external/temp/rdmorganfp_input_1745066387.txt /home/robsyc/Desktop/thesis/MB-VAE-DTI/external/temp/rdmorganfp_output_1745066387.npy\n",
      "2025-04-19 14:39:47,980 - embedding - INFO - Activating virtual environment at /home/robsyc/Desktop/thesis/MB-VAE-DTI/external/rdMorganFP/venv\n",
      "Running: python /home/robsyc/Desktop/thesis/MB-VAE-DTI/external/rdMorganFP/script.py --input \"/home/robsyc/Desktop/thesis/MB-VAE-DTI/external/temp/rdmorganfp_input_1745066387.txt\" --output \"/home/robsyc/Desktop/thesis/MB-VAE-DTI/external/temp/rdmorganfp_output_1745066387.npy\"\n",
      "Processing 955 SMILES strings...\n",
      "Saved fingerprints with shape (955, 2048) to /home/robsyc/Desktop/thesis/MB-VAE-DTI/external/temp/rdmorganfp_output_1745066387.npy\n",
      "Each fingerprint has 2048 features\n",
      "Embedding generation completed successfully\n",
      "\n",
      "2025-04-19 14:39:47,984 - embedding - INFO - Loaded embeddings with shape (955, 2048)\n",
      "2025-04-19 14:39:47,985 - embedding - INFO - Embeddings generated with shape: (955, 2048)\n",
      "2025-04-19 14:39:47,986 - embedding - INFO - Feature Drug_FP shape: (955, 2048)\n",
      "2025-04-19 14:39:47,992 - embedding - INFO - Successfully added Drug_FP to DTI_small.h5torch\n",
      "2025-04-19 14:39:47,992 - embedding - INFO - Successfully added Drug_FP to DTI_small.h5torch\n",
      "2025-04-19 14:39:47,993 - embedding - INFO - Retrieved 955 sequences for biomed-multi-view graph embeddings\n",
      "2025-04-19 14:39:47,993 - embedding - INFO - Running embedding command for biomed-multi-view: /home/robsyc/Desktop/thesis/MB-VAE-DTI/external/run_embeddings.sh biomed-multi-view /home/robsyc/Desktop/thesis/MB-VAE-DTI/external/temp/biomed_input_1745066387.txt external/temp/biomed_output_1745066387.npy --batch\n",
      "2025-04-19 14:41:05,491 - embedding - INFO - Checking if script supports batch mode...\n",
      "Batch mode supported, will use --batch flag\n",
      "Activating virtual environment at /home/robsyc/Desktop/thesis/MB-VAE-DTI/external/biomed-multi-view/venv\n",
      "Running: python /home/robsyc/Desktop/thesis/MB-VAE-DTI/external/biomed-multi-view/script.py --input \"/home/robsyc/Desktop/thesis/MB-VAE-DTI/external/temp/biomed_input_1745066387.txt\" --output \"external/temp/biomed_output_1745066387.npy\" --batch\n",
      "Processing 955 SMILES strings...\n",
      "Using model at: /home/robsyc/Desktop/thesis/MB-VAE-DTI/data/checkpoints/Biomed-smmv/biomed-smmv-base.pth\n",
      "Saved graph embeddings with shape (955, 512) to external/temp/biomed_output_1745066387_graph.npy\n",
      "Saved image embeddings with shape (955, 512) to external/temp/biomed_output_1745066387_image.npy\n",
      "Saved text embeddings with shape (955, 768) to external/temp/biomed_output_1745066387_text.npy\n",
      "Embedding dimensions: Graph (512) + Image (512) + Text (768) = 1792 features\n",
      "Embedding generation completed successfully\n",
      "\n",
      "2025-04-19 14:41:05,492 - embedding - INFO - Loaded graph embeddings with shape (955, 512)\n",
      "2025-04-19 14:41:05,493 - embedding - INFO - Feature Drug_emb_graph shape: (955, 512)\n",
      "2025-04-19 14:41:05,495 - embedding - INFO - Successfully added Drug_emb_graph to DTI_small.h5torch\n",
      "2025-04-19 14:41:05,495 - embedding - INFO - Successfully added Drug_emb_graph to DTI_small.h5torch\n",
      "2025-04-19 14:41:05,496 - embedding - INFO - Retrieved 955 sequences for biomed-multi-view image embeddings\n",
      "2025-04-19 14:41:05,497 - embedding - ERROR - Output file external/temp/biomed_output_1745066465_image.npy not found for image embeddings\n",
      "2025-04-19 14:41:05,497 - embedding - INFO - Retrieved 955 sequences for biomed-multi-view text embeddings\n",
      "2025-04-19 14:41:05,498 - embedding - ERROR - Output file external/temp/biomed_output_1745066465_text.npy not found for text embeddings\n",
      "2025-04-19 14:41:05,506 - embedding - INFO - Retrieved 418 sequences from Target_AA\n",
      "2025-04-19 14:41:05,506 - embedding - INFO - Generating embeddings using ESPF...\n",
      "2025-04-19 14:41:05,507 - embedding - INFO - Wrote 418 sequences to external/temp/espf_input_1745066465.txt\n",
      "2025-04-19 14:41:05,507 - embedding - INFO - Running embedding command: /home/robsyc/Desktop/thesis/MB-VAE-DTI/external/run_embeddings.sh ESPF /home/robsyc/Desktop/thesis/MB-VAE-DTI/external/temp/espf_input_1745066465.txt /home/robsyc/Desktop/thesis/MB-VAE-DTI/external/temp/espf_output_1745066465.npy\n",
      "2025-04-19 14:41:10,118 - embedding - INFO - Activating virtual environment at /home/robsyc/Desktop/thesis/MB-VAE-DTI/external/ESPF/venv\n",
      "Running: python /home/robsyc/Desktop/thesis/MB-VAE-DTI/external/ESPF/script.py --input \"/home/robsyc/Desktop/thesis/MB-VAE-DTI/external/temp/espf_input_1745066465.txt\" --output \"/home/robsyc/Desktop/thesis/MB-VAE-DTI/external/temp/espf_output_1745066465.npy\"\n",
      "Processing 418 sequences...\n",
      "Saved fingerprints with shape (418, 4170) to /home/robsyc/Desktop/thesis/MB-VAE-DTI/external/temp/espf_output_1745066465.npy\n",
      "Embedding generation completed successfully\n",
      "\n",
      "2025-04-19 14:41:10,121 - embedding - INFO - Loaded embeddings with shape (418, 4170)\n",
      "2025-04-19 14:41:10,124 - embedding - INFO - Embeddings generated with shape: (418, 4170)\n",
      "2025-04-19 14:41:10,125 - embedding - INFO - Feature Target_FP shape: (418, 4170)\n",
      "2025-04-19 14:41:10,130 - embedding - INFO - Successfully added Target_FP to DTI_small.h5torch\n",
      "2025-04-19 14:41:10,131 - embedding - INFO - Successfully added Target_FP to DTI_small.h5torch\n"
     ]
    }
   ],
   "source": [
    "from mb_vae_dti.processing.embedding import add_all_embeddings_to_h5torch\n",
    "\n",
    "add_all_embeddings_to_h5torch(\n",
    "    h5torch_file_name=\"DTI_small.h5torch\"\n",
    ")"
   ]
  },
  {
   "cell_type": "code",
   "execution_count": 5,
   "metadata": {},
   "outputs": [
    {
     "name": "stderr",
     "output_type": "stream",
     "text": [
      "2025-04-19 13:29:35,624 - embedding - INFO - Retrieved 433 sequences from Target_AA\n",
      "2025-04-19 13:29:35,625 - embedding - INFO - Generating embeddings using ESPF...\n",
      "2025-04-19 13:29:35,626 - embedding - INFO - Wrote 433 sequences to external/temp/espf_input_1745062175.txt\n",
      "2025-04-19 13:29:35,626 - embedding - INFO - Running embedding command: /home/robsyc/Desktop/thesis/MB-VAE-DTI/external/run_embeddings.sh ESPF /home/robsyc/Desktop/thesis/MB-VAE-DTI/external/temp/espf_input_1745062175.txt /home/robsyc/Desktop/thesis/MB-VAE-DTI/external/temp/espf_output_1745062175.npy\n",
      "2025-04-19 13:29:39,705 - embedding - INFO - Activating virtual environment at /home/robsyc/Desktop/thesis/MB-VAE-DTI/external/ESPF/venv\n",
      "Running: python /home/robsyc/Desktop/thesis/MB-VAE-DTI/external/ESPF/script.py --input \"/home/robsyc/Desktop/thesis/MB-VAE-DTI/external/temp/espf_input_1745062175.txt\" --output \"/home/robsyc/Desktop/thesis/MB-VAE-DTI/external/temp/espf_output_1745062175.npy\"\n",
      "Processing 433 sequences...\n",
      "Saved fingerprints with shape (433, 4170) to /home/robsyc/Desktop/thesis/MB-VAE-DTI/external/temp/espf_output_1745062175.npy\n",
      "Embedding generation completed successfully\n",
      "\n",
      "2025-04-19 13:29:39,709 - embedding - INFO - Loaded embeddings with shape (433, 4170)\n",
      "2025-04-19 13:29:39,710 - embedding - INFO - Embeddings generated with shape: (433, 4170)\n",
      "2025-04-19 13:29:39,711 - embedding - INFO - Found existing Target_AA, deleting it\n",
      "2025-04-19 13:29:39,711 - embedding - INFO - Feature Target_AA shape: (433, 4170)\n",
      "2025-04-19 13:29:39,716 - embedding - INFO - Successfully added Target_AA to DTI_small.h5torch\n",
      "2025-04-19 13:29:39,716 - embedding - INFO - Successfully added Target_AA to DTI_small.h5torch\n"
     ]
    }
   ],
   "source": [
    "from mb_vae_dti.processing import add_embeddings_to_h5torch\n",
    "\n",
    "add_embeddings_to_h5torch(\n",
    "    h5torch_file_name=\"DTI_small.h5torch\",\n",
    "    repo_name=\"biomed-multi-view\",\n",
    "    entity_axis=0,\n",
    "    entity_representation=\"Drug_SMILES\",\n",
    "    feature_name=\"Drug_emb_graph\",\n",
    "    use_batch=False,\n",
    "    overwrite=True\n",
    ")"
   ]
  },
  {
   "cell_type": "markdown",
   "metadata": {},
   "source": [
    "---"
   ]
  },
  {
   "cell_type": "markdown",
   "metadata": {},
   "source": [
    "## Drug Generation"
   ]
  },
  {
   "cell_type": "code",
   "execution_count": 7,
   "metadata": {},
   "outputs": [],
   "source": [
    "import os\n",
    "os.chdir(\"/home/robsyc/Desktop/thesis/MB-VAE-DTI\")\n",
    "\n",
    "from mb_vae_dti.processing import add_split_cols_drug_generation, create_h5torch_smiles, SMILESDataset\n",
    "import pandas as pd\n",
    "\n",
    "df_drug_generation = pd.read_csv(\"data/processed/data_drug_generation.csv\")\n",
    "df_drug_generation_split = add_split_cols_drug_generation(df_drug_generation)"
   ]
  },
  {
   "cell_type": "code",
   "execution_count": 8,
   "metadata": {},
   "outputs": [
    {
     "name": "stdout",
     "output_type": "stream",
     "text": [
      "Creating h5torch file from dataframe with 4007090 SMILES strings...\n",
      "Created h5torch file for SMILES data at data/processed/data_drug_generation.h5torch\n"
     ]
    }
   ],
   "source": [
    "create_h5torch_smiles(df_drug_generation_split)"
   ]
  },
  {
   "cell_type": "code",
   "execution_count": 9,
   "metadata": {},
   "outputs": [
    {
     "name": "stdout",
     "output_type": "stream",
     "text": [
      "<KeysViewHDF5 ['0', 'central']>\n",
      "<HDF5 dataset \"central\": shape (4007090,), type \"<i8\">\n",
      "<HDF5 group \"/0\" (2 members)>\n",
      "<KeysViewHDF5 ['smiles', 'split']>\n",
      "[b'Cc1cccc(N2CC(c3nc4ccccc4n3C)CC2=O)c1C'\n",
      " b'CCn1c(C2CC(=O)N(c3cccc(C)c3C)C2)nc2ccccc21'\n",
      " b'Cc1cc(C)c(N2CC(c3nc4ccccc4[nH]3)CC2=O)c(C)c1'\n",
      " b'Cc1cc(C)c(N2CC(c3nc4ccccc4n3C)CC2=O)c(C)c1'\n",
      " b'Cn1c(C2CC(=O)N(Cc3ccccc3)C2)nc2ccccc21'\n",
      " b'Cc1ccc(N2CC(c3nc4ccccc4n3C)CC2=O)cc1Cl'\n",
      " b'COc1ccc(Cl)cc1N1CC(c2nc3ccccc3[nH]2)CC1=O'\n",
      " b'CC1CN(c2cc(=O)n(-c3ccccc3Cl)c(=O)[nH]2)CC(C)O1'\n",
      " b'O=C(c1ccccc1)N1CCN(S(=O)(=O)Cc2ccccc2)CC1'\n",
      " b'O=C(c1ccncc1)N1CCN(S(=O)(=O)Cc2ccccc2)CC1']\n",
      "True\n"
     ]
    }
   ],
   "source": [
    "import h5torch\n",
    "\n",
    "# open data_drug_generation.h5torch\n",
    "with h5torch.File(\"data/processed/data_drug_generation.h5torch\", \"r\") as f:\n",
    "    print(f.keys())\n",
    "    print(f[\"central\"])\n",
    "    print(f[\"0\"])\n",
    "    print(f[\"0\"].keys())\n",
    "    print(f[\"0/smiles\"][:10])\n",
    "    print(\"0/smiles\" in f)\n"
   ]
  },
  {
   "cell_type": "code",
   "execution_count": 1,
   "metadata": {},
   "outputs": [
    {
     "name": "stderr",
     "output_type": "stream",
     "text": [
      "03:07:01 - INFO - Old pandas version detected. Patching DataFrame.map to DataFrame.applymap\n"
     ]
    },
    {
     "data": {
      "text/plain": [
       "'Cc1cccc(N2CC(c3nc4ccccc4n3C)CC2=O)c1C'"
      ]
     },
     "execution_count": 1,
     "metadata": {},
     "output_type": "execute_result"
    }
   ],
   "source": [
    "# Create dataset for all data\n",
    "dataset = SMILESDataset(\"data/processed/data_drug_generation.h5torch\")\n",
    "\n",
    "# Or for a specific split\n",
    "train_dataset = SMILESDataset(\n",
    "    filename=\"data/processed/data_drug_generation.h5torch\", \n",
    "    split=\"train\"\n",
    ")\n",
    "\n",
    "dataset[0]"
   ]
  }
 ],
 "metadata": {
  "kernelspec": {
   "display_name": "mb-vae-dti",
   "language": "python",
   "name": "python3"
  },
  "language_info": {
   "codemirror_mode": {
    "name": "ipython",
    "version": 3
   },
   "file_extension": ".py",
   "mimetype": "text/x-python",
   "name": "python",
   "nbconvert_exporter": "python",
   "pygments_lexer": "ipython3",
   "version": "3.9.22"
  }
 },
 "nbformat": 4,
 "nbformat_minor": 2
}
