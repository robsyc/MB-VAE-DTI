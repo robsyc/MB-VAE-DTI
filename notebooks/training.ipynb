{
 "cells": [
  {
   "cell_type": "markdown",
   "metadata": {},
   "source": [
    "# Training\n",
    "\n",
    "Experiments were conducted using:\n",
    "- `mb_vae_dti/training/run.py`: command line interface for training\n",
    "- and the scripts in `scripts/training/` for running the experiments\n",
    "\n",
    "This notebook shows some plots and analysis of the unsupervised pretraining, general DTI training and benchmark fine-tuning results."
   ]
  },
  {
   "cell_type": "code",
   "execution_count": 1,
   "metadata": {},
   "outputs": [
    {
     "name": "stdout",
     "output_type": "stream",
     "text": [
      "Setting working directory to: /home/robsyc/Desktop/thesis/MB-VAE-DTI\n"
     ]
    }
   ],
   "source": [
    "from resolve import *"
   ]
  },
  {
   "cell_type": "code",
   "execution_count": null,
   "metadata": {},
   "outputs": [
    {
     "name": "stderr",
     "output_type": "stream",
     "text": [
      "2025-07-30 01:53:43,772 - mb_vae_dti.validating.analysis - INFO - Loading 47 result files from notebooks/results/grid_mo_rand\n"
     ]
    },
    {
     "name": "stdout",
     "output_type": "stream",
     "text": [
      "Params: 44.3M\n",
      "test/loss_Y               0.351866\n",
      "test/loss_Y_pKd           0.203438\n",
      "test/loss_Y_pKi           0.676976\n",
      "test/loss_Y_KIBA          0.175217\n",
      "test/loss                 0.859665\n",
      "test/binary_accuracy      0.869318\n",
      "test/binary_auprc         0.832982\n",
      "test/binary_auroc         0.917402\n",
      "test/binary_f1            0.758347\n",
      "test/real_pKd_ci          0.862616\n",
      "test/real_pKd_mse         0.428890\n",
      "test/real_pKd_pearson     0.858399\n",
      "test/real_pKd_r2          0.721310\n",
      "test/real_pKd_rmse        0.654620\n",
      "test/real_pKi_ci          0.823461\n",
      "test/real_pKi_mse         0.696080\n",
      "test/real_pKi_pearson     0.831988\n",
      "test/real_pKi_r2          0.670206\n",
      "test/real_pKi_rmse        0.833835\n",
      "test/real_KIBA_ci         0.829142\n",
      "test/real_KIBA_mse        0.294405\n",
      "test/real_KIBA_pearson    0.806901\n",
      "test/real_KIBA_r2         0.559779\n",
      "test/real_KIBA_rmse       0.538769\n",
      "dtype: float64\n",
      "----------------------------------------------------------------------------------------------------\n",
      "Params: 45.1M\n",
      "test/loss_Y               0.382991\n",
      "test/loss_Y_pKd           0.276458\n",
      "test/loss_Y_pKi           0.789161\n",
      "test/loss_Y_KIBA          0.181658\n",
      "test/loss                 0.993409\n",
      "test/binary_accuracy      0.858134\n",
      "test/binary_auprc         0.810435\n",
      "test/binary_auroc         0.904326\n",
      "test/binary_f1            0.739694\n",
      "test/real_pKd_ci          0.858652\n",
      "test/real_pKd_mse         0.461681\n",
      "test/real_pKd_pearson     0.844921\n",
      "test/real_pKd_r2          0.700005\n",
      "test/real_pKd_rmse        0.679043\n",
      "test/real_pKi_ci          0.808537\n",
      "test/real_pKi_mse         0.811577\n",
      "test/real_pKi_pearson     0.806461\n",
      "test/real_pKi_r2          0.615486\n",
      "test/real_pKi_rmse        0.900067\n",
      "test/real_KIBA_ci         0.823398\n",
      "test/real_KIBA_mse        0.276455\n",
      "test/real_KIBA_pearson    0.789132\n",
      "test/real_KIBA_r2         0.586564\n",
      "test/real_KIBA_rmse       0.524782\n",
      "dtype: float64\n"
     ]
    }
   ],
   "source": [
    "from mb_vae_dti.validating.analysis import *\n",
    "\n",
    "# should update these helper functions\n",
    "# - read folder full of jsons\n",
    "# - get all first and 2nd level keys and turn to df\n",
    "\n",
    "# Downstream\n",
    "# - sort by best_val_loss\n",
    "# - get 5 best val loss\n",
    "# - average test results, n_params, train_time over top 5\n",
    "# - additional filters:\n",
    "#    - for baseline: which encoder did better?\n",
    "#    - for multi-modal: which aggregator did better?\n",
    "\n",
    "df = load_gridsearch_results(\"notebooks/results/grid_mo_rand/\")\n",
    "\n",
    "# get subsets with desired distinction (encoder_type and aggregator_type)\n",
    "with_resnet = df[df[\"config.model.encoder_type\"] == \"resnet\"]\n",
    "with_transformer = df[df[\"config.model.encoder_type\"] == \"transformer\"]\n",
    "\n",
    "# get 5 best performers\n",
    "with_resnet_best = with_resnet.sort_values(by=\"best_val_loss\", ascending=True).head(5)\n",
    "with_transformer_best = with_transformer.sort_values(by=\"best_val_loss\", ascending=True).head(5)\n",
    "\n",
    "# get stats\n",
    "print(f\"Params: {with_resnet_best['trainable_params'].mean() / 1000000:.1f}M\")\n",
    "print(get_test_averages(with_resnet_best))\n",
    "print(\"-\" * 100)\n",
    "print(f\"Params: {with_transformer_best['trainable_params'].mean() / 1000000:.1f}M\")\n",
    "print(get_test_averages(with_transformer_best))"
   ]
  }
 ],
 "metadata": {
  "kernelspec": {
   "display_name": "mb-vae-dti",
   "language": "python",
   "name": "python3"
  },
  "language_info": {
   "codemirror_mode": {
    "name": "ipython",
    "version": 3
   },
   "file_extension": ".py",
   "mimetype": "text/x-python",
   "name": "python",
   "nbconvert_exporter": "python",
   "pygments_lexer": "ipython3",
   "version": "3.9.23"
  }
 },
 "nbformat": 4,
 "nbformat_minor": 2
}
